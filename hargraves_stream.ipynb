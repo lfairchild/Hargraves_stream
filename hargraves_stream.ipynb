{
 "cells": [
  {
   "cell_type": "code",
   "execution_count": 1,
   "metadata": {
    "collapsed": true,
    "extensions": {
     "jupyter_dashboards": {
      "version": 1,
      "views": {
       "grid_default": {
        "hidden": true
       },
       "report_default": {}
      }
     }
    },
    "init_cell": true
   },
   "outputs": [],
   "source": [
    "import warnings\n",
    "warnings.filterwarnings('ignore')"
   ]
  },
  {
   "cell_type": "code",
   "execution_count": 2,
   "metadata": {
    "collapsed": false,
    "extensions": {
     "jupyter_dashboards": {
      "version": 1,
      "views": {
       "grid_default": {
        "hidden": true
       },
       "report_default": {}
      }
     }
    },
    "init_cell": true
   },
   "outputs": [
    {
     "data": {
      "application/javascript": [
       "\n",
       "        window.Urth = window.Urth || {};\n",
       "        Urth._initialized = Urth._initialized || $.Deferred();\n",
       "        Urth.whenReady = Urth.whenReady || function(cb) {\n",
       "            Urth._initialized.then(function() {\n",
       "                Urth.whenReady(cb);\n",
       "            });\n",
       "        };\n",
       "        Urth.whenReady(function() { console.log(\"Declarative widgets connected.\") });\n",
       "        "
      ],
      "text/plain": [
       "<IPython.core.display.Javascript object>"
      ]
     },
     "metadata": {},
     "output_type": "display_data"
    }
   ],
   "source": [
    "import declarativewidgets as decwidgets\n",
    "decwidgets.init()\n",
    "import os\n",
    "import sys\n",
    "if sys.version_info[0] < 3: \n",
    "    from StringIO import StringIO\n",
    "else:\n",
    "    from io import StringIO\n",
    "import pmagpy.ipmag as ipmag\n",
    "import pmagpy.pmag as pmag\n",
    "import pmagpy.pmagplotlib as pmagplotlib\n",
    "import pandas as pd\n",
    "import matplotlib.pyplot as plt\n",
    "import numpy as np\n",
    "from ipywidgets import interact, interactive, fixed\n",
    "import ipywidgets\n",
    "from IPython.display import display\n",
    "from pmagpy.demag_gui_utilities import *\n",
    "import subprocess\n",
    "from hargraves_stream_utilities import *\n",
    "import sched, time\n",
    "# from IPython.core import interactiveshell\n",
    "\n",
    "%matplotlib inline"
   ]
  },
  {
   "cell_type": "code",
   "execution_count": 3,
   "metadata": {
    "collapsed": false,
    "extensions": {
     "jupyter_dashboards": {
      "version": 1,
      "views": {
       "grid_default": {
        "hidden": true
       },
       "report_default": {}
      }
     }
    }
   },
   "outputs": [],
   "source": [
    "test_log = open('testlog.txt','w')\n",
    "test_errlog = open('testerrlog.txt','w')\n",
    "test_log.close()\n",
    "test_errlog.close()\n",
    "test_log_path = os.path.abspath('testlog.txt')"
   ]
  },
  {
   "cell_type": "code",
   "execution_count": 4,
   "metadata": {
    "collapsed": false,
    "extensions": {
     "jupyter_dashboards": {
      "version": 1,
      "views": {
       "grid_default": {
        "hidden": true
       },
       "report_default": {}
      }
     }
    }
   },
   "outputs": [],
   "source": [
    "def set_hargraves_path(name=\"~/Dropbox/Hargraves_Data/\"):\n",
    "    global hargraves_path\n",
    "    hargraves_path = name\n",
    "    hargraves_path = os.path.expanduser(hargraves_path)\n",
    "    return hargraves_path\n",
    "set_hargraves_path();"
   ]
  },
  {
   "cell_type": "code",
   "execution_count": 5,
   "metadata": {
    "collapsed": false,
    "extensions": {
     "jupyter_dashboards": {
      "version": 1,
      "views": {
       "grid_default": {
        "col": 0,
        "height": 4,
        "hidden": false,
        "row": 17,
        "width": 4
       },
       "report_default": {}
      }
     }
    }
   },
   "outputs": [
    {
     "data": {
      "text/html": [
       "<template is=\"urth-core-bind\" channel='a'>\n",
       "    <urth-core-function id=\"f\" ref=\"set_hargraves_path\" value=\"{{name}}\" auto></urth-core-function>\n",
       "    <label>Path to Hargraves_Data folder:</label> <input type=\"text\" placeholder=\"{{name}}\" value=\"{{name::input}}\" size=\"35\"></input><br/>\n",
       "</template> "
      ],
      "text/plain": [
       "<IPython.core.display.HTML object>"
      ]
     },
     "metadata": {},
     "output_type": "display_data"
    }
   ],
   "source": [
    "%%html\n",
    "<template is=\"urth-core-bind\" channel='a'>\n",
    "    <urth-core-function id=\"f\" ref=\"set_hargraves_path\" value=\"{{name}}\" auto></urth-core-function>\n",
    "    <label>Path to Hargraves_Data folder:</label> <input type=\"text\" placeholder=\"{{name}}\" value=\"{{name::input}}\" size=\"35\"></input><br/>\n",
    "</template> "
   ]
  },
  {
   "cell_type": "code",
   "execution_count": 6,
   "metadata": {
    "collapsed": false,
    "extensions": {
     "jupyter_dashboards": {
      "version": 1,
      "views": {
       "grid_default": {
        "hidden": true
       },
       "report_default": {}
      }
     }
    }
   },
   "outputs": [],
   "source": [
    "def on_name_change(old, new):\n",
    "    hargraves_path = set_hargraves_path(name=new)\n",
    "    msg = \"{}\".format(new)\n",
    "    decwidgets.channel('a').set('message', msg)\n",
    "    \n",
    "decwidgets.channel('a').watch('name', on_name_change)"
   ]
  },
  {
   "cell_type": "code",
   "execution_count": 7,
   "metadata": {
    "collapsed": false,
    "extensions": {
     "jupyter_dashboards": {
      "version": 1,
      "views": {
       "grid_default": {
        "col": 4,
        "height": 4,
        "hidden": false,
        "row": 17,
        "width": 4
       },
       "report_default": {}
      }
     }
    }
   },
   "outputs": [
    {
     "data": {
      "text/html": [
       "<template is='urth-core-bind' channel='a' auto>\n",
       "    <span>Path changed to {{message}}</span>\n",
       "</template>"
      ],
      "text/plain": [
       "<IPython.core.display.HTML object>"
      ]
     },
     "metadata": {},
     "output_type": "display_data"
    }
   ],
   "source": [
    "%%html\n",
    "<template is='urth-core-bind' channel='a' auto>\n",
    "    <span>Path changed to {{message}}</span>\n",
    "</template>"
   ]
  },
  {
   "cell_type": "code",
   "execution_count": 51,
   "metadata": {
    "collapsed": false
   },
   "outputs": [
    {
     "data": {
      "text/plain": [
       "1472244886.0"
      ]
     },
     "execution_count": 51,
     "metadata": {},
     "output_type": "execute_result"
    }
   ],
   "source": [
    "os.path.getctime(test_log_path)"
   ]
  },
  {
   "cell_type": "code",
   "execution_count": 54,
   "metadata": {
    "collapsed": false
   },
   "outputs": [
    {
     "data": {
      "text/plain": [
       "1472244916.0"
      ]
     },
     "execution_count": 54,
     "metadata": {},
     "output_type": "execute_result"
    }
   ],
   "source": [
    "os.path.getctime(test_log_path)"
   ]
  },
  {
   "cell_type": "code",
   "execution_count": null,
   "metadata": {
    "collapsed": true
   },
   "outputs": [],
   "source": [
    "def detect_file_change():\n",
    "    global test_log_path\n",
    "    hargraves_path = name\n",
    "    hargraves_path = os.path.expanduser(hargraves_path)\n",
    "    return hargraves_path\n",
    "set_hargraves_path();"
   ]
  },
  {
   "cell_type": "code",
   "execution_count": 60,
   "metadata": {
    "collapsed": false
   },
   "outputs": [
    {
     "data": {
      "text/html": [
       "<input type=\"file\" value=\"testlog.txt\" onchange=\"alert('Changed!');\" />"
      ],
      "text/plain": [
       "<IPython.core.display.HTML object>"
      ]
     },
     "metadata": {},
     "output_type": "display_data"
    }
   ],
   "source": [
    "%%html\n",
    "<input type=\"file\" value=\"testlog.txt\" onchange=\"alert('Changed!');\" />"
   ]
  },
  {
   "cell_type": "code",
   "execution_count": null,
   "metadata": {
    "collapsed": true
   },
   "outputs": [],
   "source": [
    "%%html\n",
    "<template is=\"urth-core-bind\" channel='b'>\n",
    "    <urth-core-function id=\"file\" ref=\"on_file_change\" auto></urth-core-function>\n",
    "    <label>Path to Hargraves_Data folder:</label> <input type=\"file\" value=\"testlog.txt\" onchange=\"run()\"></input><br/>\n",
    "</template> "
   ]
  },
  {
   "cell_type": "code",
   "execution_count": 36,
   "metadata": {
    "collapsed": false,
    "extensions": {
     "jupyter_dashboards": {
      "version": 1,
      "views": {
       "grid_default": {
        "hidden": true
       },
       "report_default": {}
      }
     }
    }
   },
   "outputs": [],
   "source": [
    "def on_file_change():\n",
    "    test_log = open(test_log_path, 'r')\n",
    "    path_name_list = test_log.readlines()\n",
    "    test_log.close()\n",
    "    new = path_name_list[-2]+path_name_list[-1]\n",
    "    try:\n",
    "        old = path_name_list[-4]+path_name_list[-3]\n",
    "    except IndexError:\n",
    "        decwidgets.channel('b').set('update', True)\n",
    "        return True\n",
    "    if new == old:\n",
    "        decwidgets.channel('b').set('update', False)\n",
    "        return False\n",
    "    else:\n",
    "        decwidgets.channel('b').set('update', True)\n",
    "        return True\n",
    "decwidgets.channel('b').watch('update', on_file_change)"
   ]
  },
  {
   "cell_type": "code",
   "execution_count": 41,
   "metadata": {
    "collapsed": false,
    "extensions": {
     "jupyter_dashboards": {
      "version": 1,
      "views": {
       "grid_default": {
        "hidden": true
       },
       "report_default": {}
      }
     }
    },
    "scrolled": true
   },
   "outputs": [],
   "source": [
    "try:\n",
    "    on_file_change()\n",
    "except:\n",
    "    pass"
   ]
  },
  {
   "cell_type": "code",
   "execution_count": 58,
   "metadata": {
    "collapsed": false
   },
   "outputs": [
    {
     "data": {
      "text/plain": [
       "True"
      ]
     },
     "execution_count": 58,
     "metadata": {},
     "output_type": "execute_result"
    }
   ],
   "source": [
    "on_file_change()"
   ]
  },
  {
   "cell_type": "code",
   "execution_count": 57,
   "metadata": {
    "collapsed": false,
    "extensions": {
     "jupyter_dashboards": {
      "version": 1,
      "views": {
       "grid_default": {
        "col": 8,
        "height": 4,
        "hidden": false,
        "row": 17,
        "width": 4
       },
       "report_default": {}
      }
     }
    }
   },
   "outputs": [
    {
     "data": {
      "text/html": [
       "<template is='urth-core-bind' channel='b' auto>\n",
       "    <urth-core-function id=\"f\" ref=\"on_file_change\" result=\"{{update}}\" auto></urth-core-function>\n",
       "    <span>UPDATE: {{update}}</span>\n",
       "</template>"
      ],
      "text/plain": [
       "<IPython.core.display.HTML object>"
      ]
     },
     "metadata": {},
     "output_type": "display_data"
    }
   ],
   "source": [
    "%%html\n",
    "<template is='urth-core-bind' channel='b' auto>\n",
    "    <urth-core-function id=\"f\" ref=\"on_file_change\" result=\"{{update}}\" auto></urth-core-function>\n",
    "    <span>UPDATE: {{update}}</span>\n",
    "</template>"
   ]
  },
  {
   "cell_type": "code",
   "execution_count": 16,
   "metadata": {
    "collapsed": false,
    "extensions": {
     "jupyter_dashboards": {
      "version": 1,
      "views": {
       "grid_default": {
        "hidden": true
       },
       "report_default": {}
      }
     }
    }
   },
   "outputs": [],
   "source": [
    "def start_stream():\n",
    "    global stream_status\n",
    "    stream_status=True\n",
    "    get_ipython().run_cell_magic(u'sh', u'--proc GETFILES --bg -s \"$hargraves_path\" \"$test_log_path\"', u'demag_stream.command $1 $2')\n",
    "    return stream_status"
   ]
  },
  {
   "cell_type": "code",
   "execution_count": 17,
   "metadata": {
    "collapsed": false,
    "extensions": {
     "jupyter_dashboards": {
      "version": 1,
      "views": {
       "grid_default": {
        "hidden": true
       },
       "report_default": {}
      }
     }
    }
   },
   "outputs": [],
   "source": [
    "def shutdown_stream():\n",
    "    global stream_status\n",
    "    stream_status=False\n",
    "    !killall bash\n",
    "    %killbgscripts\n",
    "    return stream_status"
   ]
  },
  {
   "cell_type": "code",
   "execution_count": 18,
   "metadata": {
    "collapsed": false,
    "extensions": {
     "jupyter_dashboards": {
      "version": 1,
      "views": {
       "grid_default": {
        "hidden": true
       },
       "report_default": {}
      }
     }
    }
   },
   "outputs": [],
   "source": [
    "from declarativewidgets import channel\n",
    "# t = ipywidgets.widget_selection.ToggleButtons(description='Stream:', options=['On', 'Off'])\n",
    "# display(t)\n",
    "stream_status=True\n",
    "def toggle_stream():\n",
    "    global stream_status\n",
    "    stream_status = not stream_status\n",
    "#     if stream_status is True:\n",
    "# #         channel('c').set('stream_status', True)\n",
    "#         start_stream();\n",
    "#     else:\n",
    "    if stream_status:\n",
    "        channel('c').set('stream_status', 'LIVE')\n",
    "        channel('c').set('stream_clr', 'green')\n",
    "    else:\n",
    "        channel('c').set('stream_status', 'DEAD')\n",
    "        channel('c').set('stream_clr', 'red')\n",
    "#         shutdown_stream();\n",
    "    if stream_status:\n",
    "        return start_stream();\n",
    "    else:\n",
    "        return shutdown_stream();\n",
    "#     return start_stream() if stream_status else shutdown_stream()\n",
    "decwidgets.channel('c').watch('stream_status', toggle_stream)\n",
    "decwidgets.channel('c').watch('stream_clr', toggle_stream)"
   ]
  },
  {
   "cell_type": "code",
   "execution_count": 19,
   "metadata": {
    "collapsed": false,
    "extensions": {
     "jupyter_dashboards": {
      "version": 1,
      "views": {
       "grid_default": {
        "col": 0,
        "height": 4,
        "hidden": false,
        "row": 21,
        "width": 4
       },
       "report_default": {}
      }
     }
    }
   },
   "outputs": [
    {
     "name": "stdout",
     "output_type": "stream",
     "text": [
      "Starting job # 0 in a separate thread.\n"
     ]
    },
    {
     "data": {
      "text/plain": [
       "True"
      ]
     },
     "metadata": {},
     "output_type": "display_data"
    }
   ],
   "source": [
    "%%capture\n",
    "@interact()\n",
    "def stream(Stream=False):\n",
    "    return toggle_stream();"
   ]
  },
  {
   "cell_type": "code",
   "execution_count": 25,
   "metadata": {
    "collapsed": false,
    "extensions": {
     "jupyter_dashboards": {
      "version": 1,
      "views": {
       "grid_default": {
        "col": 4,
        "height": 4,
        "hidden": false,
        "row": 21,
        "width": 4
       },
       "report_default": {}
      }
     }
    }
   },
   "outputs": [
    {
     "data": {
      "text/html": [
       "<template is='urth-core-bind' channel='c' auto>\n",
       "    <style>\n",
       "    strong {color:{{stream_clr}};}\n",
       "    </style>\n",
       "    <span><strong>Stream is {{stream_status}}</strong></span>\n",
       "</template>"
      ],
      "text/plain": [
       "<IPython.core.display.HTML object>"
      ]
     },
     "metadata": {},
     "output_type": "display_data"
    }
   ],
   "source": [
    "%%html\n",
    "<template is='urth-core-bind' channel='c' auto>\n",
    "    <style>\n",
    "    strong {color:{{stream_clr}};}\n",
    "    </style>\n",
    "    <span><strong>Stream is {{stream_status}}</strong></span>\n",
    "</template>"
   ]
  },
  {
   "cell_type": "code",
   "execution_count": 25,
   "metadata": {
    "collapsed": false,
    "extensions": {
     "jupyter_dashboards": {
      "version": 1,
      "views": {
       "grid_default": {
        "hidden": true
       },
       "report_default": {}
      }
     }
    }
   },
   "outputs": [],
   "source": [
    "def find_most_recent(full_path, test_log_path):\n",
    "    log = open(test_log_path, 'r')\n",
    "    path_name_list = log.readlines()\n",
    "    log.close()\n",
    "    path_name = path_name_list[-2]+path_name_list[-1]\n",
    "    dir_path = str(path_name).split('\\n')[0][2:]\n",
    "    file_path = str(path_name).split('\\n')[1]\n",
    "    full_inp_path = os.path.abspath(hargraves_path+'/'+ dir_path + '/' + os.path.basename(dir_path) + '.inp')\n",
    "    full_sam_path = os.path.abspath(hargraves_path+'/'+ dir_path + '/' + os.path.basename(dir_path) + '.sam')\n",
    "#     print full_inp_path, '\\nexists ---> {}'.format(os.path.isfile(full_inp_path))\n",
    "#     print full_sam_path, '\\nexists ---> {}'.format(os.path.isfile(full_sam_path))\n",
    "    return full_inp_path, full_sam_path, file_path"
   ]
  },
  {
   "cell_type": "code",
   "execution_count": 26,
   "metadata": {
    "collapsed": false,
    "extensions": {
     "jupyter_dashboards": {
      "version": 1,
      "views": {
       "grid_default": {
        "hidden": true
       },
       "report_default": {}
      }
     }
    }
   },
   "outputs": [],
   "source": [
    "try:\n",
    "    full_inp_path, full_sam_path, file_path = find_most_recent(hargraves_path, test_log_path)\n",
    "    most_recent_sample = os.path.splitext(os.path.basename(file_path))[0][:-1]\n",
    "    try:\n",
    "        most_recent_samp_num = most_recent_sample.split('.')[1]\n",
    "    except:\n",
    "        most_recent_samp_num = most_recent_sample.split('-')[1]\n",
    "except:\n",
    "    print \"No data detected. Turn on stream\""
   ]
  },
  {
   "cell_type": "code",
   "execution_count": 27,
   "metadata": {
    "collapsed": false,
    "extensions": {
     "jupyter_dashboards": {
      "version": 1,
      "views": {
       "grid_default": {
        "hidden": true
       },
       "report_default": {}
      }
     }
    }
   },
   "outputs": [],
   "source": [
    "%%capture\n",
    "%cd\n",
    "_, er_specimens, er_sites, er_samples, magic_measurements = read_inp(full_inp_path,full_sam_path)"
   ]
  },
  {
   "cell_type": "code",
   "execution_count": 28,
   "metadata": {
    "collapsed": false,
    "extensions": {
     "jupyter_dashboards": {
      "version": 1,
      "views": {
       "grid_default": {
        "hidden": true
       },
       "report_default": {}
      }
     }
    }
   },
   "outputs": [],
   "source": [
    "samp_list = []\n",
    "all_samp = er_samples.er_sample_name.unique().tolist()\n",
    "try:\n",
    "    for s in all_samp:\n",
    "        samp_list.append(s.split('.')[1])\n",
    "except:\n",
    "    for s in all_samp:\n",
    "        samp_list.append(s.split('-')[1])"
   ]
  },
  {
   "cell_type": "code",
   "execution_count": 29,
   "metadata": {
    "collapsed": false,
    "extensions": {
     "jupyter_dashboards": {
      "version": 1,
      "views": {
       "grid_default": {
        "hidden": true
       },
       "report_default": {}
      }
     }
    }
   },
   "outputs": [],
   "source": [
    "sample_name = most_recent_sample\n",
    "specimen_name = sample_name + 'a'\n",
    "tr = magic_measurements.ix[magic_measurements.er_specimen_name==specimen_name]['treatment_temp'].tolist()\n",
    "dec = magic_measurements.ix[magic_measurements.er_specimen_name==specimen_name]['measurement_dec'].tolist()\n",
    "inc = magic_measurements.ix[magic_measurements.er_specimen_name==specimen_name]['measurement_inc'].tolist()\n",
    "moment = magic_measurements.ix[magic_measurements.er_specimen_name==specimen_name]['measurement_magn_moment'].tolist()\n",
    "\n",
    "datablock = map(list, zip(tr, dec, inc, moment))\n",
    "\n",
    "# [tr,dec,inc,int,ZI,rec['measurement_flag'],rec['magic_instrument_codes']]"
   ]
  },
  {
   "cell_type": "code",
   "execution_count": 30,
   "metadata": {
    "collapsed": false,
    "extensions": {
     "jupyter_dashboards": {
      "version": 1,
      "views": {
       "grid_default": {
        "hidden": true
       },
       "report_default": {}
      }
     }
    }
   },
   "outputs": [],
   "source": [
    "sample_info = er_samples.ix[er_samples['er_sample_name']==sample_name]\n",
    "sample_info.reset_index(inplace=True, drop=True)\n",
    "dec_geo, inc_geo = [], []\n",
    "dec_tc, inc_tc = [], []\n",
    "for n in range(len(dec)):\n",
    "    d, i = pmag.dogeo(dec[n], inc[n], sample_info.sample_azimuth[0], sample_info.sample_dip[0])\n",
    "    dec_geo.append(d)\n",
    "    inc_geo.append(i)\n",
    "for n in range(len(dec_geo)):\n",
    "    d, i = pmag.dotilt(dec_geo[n], inc_geo[n], sample_info.sample_bed_dip_direction[0], sample_info.sample_bed_dip[0])\n",
    "    dec_tc.append(d)\n",
    "    inc_tc.append(i)"
   ]
  },
  {
   "cell_type": "code",
   "execution_count": 31,
   "metadata": {
    "collapsed": false,
    "extensions": {
     "jupyter_dashboards": {
      "version": 1,
      "views": {
       "grid_default": {
        "hidden": true
       },
       "report_default": {}
      }
     }
    }
   },
   "outputs": [],
   "source": [
    "#@interact(sample_num = samp_list, crd=['Core', 'Geographic', 'Tilt corrected'])\n",
    "def plot_equal_area(sample_num = most_recent_samp_num, crd='Geographic'):\n",
    "    sample = str(sample_num)\n",
    "    if '-' in str(magic_measurements['er_specimen_name'][0]):\n",
    "        sample_name = magic_measurements.er_site_name.unique()[0]+'-'+sample\n",
    "    elif '.' in str(magic_measurements['er_specimen_name'][0]):\n",
    "        sample_name = magic_measurements.er_site_name.unique()[0]+'.'+sample\n",
    "    specimen_name = sample_name + 'a'\n",
    "    tr = magic_measurements.ix[magic_measurements.er_specimen_name==specimen_name]['treatment_temp'].tolist()\n",
    "    dec = magic_measurements.ix[magic_measurements.er_specimen_name==specimen_name]['measurement_dec'].tolist()\n",
    "    inc = magic_measurements.ix[magic_measurements.er_specimen_name==specimen_name]['measurement_inc'].tolist()\n",
    "    moment = magic_measurements.ix[magic_measurements.er_specimen_name==specimen_name]['measurement_magn_moment'].tolist()\n",
    "\n",
    "    sample_info = er_samples.ix[er_samples['er_sample_name']==sample_name]\n",
    "    sample_info.reset_index(inplace=True, drop=True)\n",
    "    dec_geo, inc_geo = [], []\n",
    "    dec_tc, inc_tc = [], []\n",
    "    for n in range(len(dec)):\n",
    "        d, i = pmag.dogeo(dec[n], inc[n], sample_info.sample_azimuth[0], sample_info.sample_dip[0])\n",
    "        dec_geo.append(d)\n",
    "        inc_geo.append(i)\n",
    "    for n in range(len(dec_geo)):\n",
    "        d, i = pmag.dotilt(dec_geo[n], inc_geo[n], sample_info.sample_bed_dip_direction[0], sample_info.sample_bed_dip[0])\n",
    "        dec_tc.append(d)\n",
    "        inc_tc.append(i)\n",
    "\n",
    "    \n",
    "    fig = plt.figure(figsize=(15,5))\n",
    "    ax1 = plt.subplot2grid((1,3), (0,0), colspan=1)\n",
    "    plt.axis(\"off\")\n",
    "    plot_net()\n",
    "\n",
    "    if crd=='Core':\n",
    "        datablock = map(list, zip(tr, dec, inc, moment))\n",
    "        ipmag.plot_di(dec,inc)\n",
    "    elif crd=='Geographic':\n",
    "        datablock = map(list, zip(tr, dec_geo, inc_geo, moment))\n",
    "        ipmag.plot_di(dec_geo, inc_geo)\n",
    "    elif crd=='Tilt corrected':\n",
    "        datablock = map(list, zip(tr, dec_tc, inc_tc, moment))\n",
    "        ipmag.plot_di(dec_tc, inc_tc)\n",
    "\n",
    "    ax2 = plt.subplot2grid((1,3), (0,1), colspan=1)\n",
    "    plt.axis(\"off\")\n",
    "    plotZ(datablock, 90, specimen_name, 0)\n",
    "\n",
    "    ax3 = plt.subplot2grid((1,3), (0,2), colspan=1)\n",
    "    plt.axis(\"on\")\n",
    "    plotMT(datablock,specimen_name, 1, 'K',1)\n",
    "    \n",
    "    plt.tight_layout()\n",
    "    plt.show()"
   ]
  },
  {
   "cell_type": "code",
   "execution_count": 32,
   "metadata": {
    "collapsed": true,
    "extensions": {
     "jupyter_dashboards": {
      "version": 1,
      "views": {
       "grid_default": {
        "hidden": true
       },
       "report_default": {}
      }
     }
    }
   },
   "outputs": [],
   "source": [
    "import traitlets"
   ]
  },
  {
   "cell_type": "code",
   "execution_count": 33,
   "metadata": {
    "collapsed": false,
    "extensions": {
     "jupyter_dashboards": {
      "version": 1,
      "views": {
       "grid_default": {
        "hidden": true
       },
       "report_default": {}
      }
     }
    }
   },
   "outputs": [],
   "source": [
    "dirs = full_sam_path.split('/')\n",
    "for direct in range(len(dirs)):\n",
    "    if dirs[direct]=='Hargraves_Data':\n",
    "        dir_ind = direct + 1\n",
    "def in_hargraves_file(value):\n",
    "    options = os.listdir(os.path.abspath(hargraves_path+value))\n",
    "    return options\n",
    "dir1 = ipywidgets.Dropdown(options=os.listdir(hargraves_path),value=dirs[dir_ind])\n",
    "dir2 = ipywidgets.Dropdown(options=os.listdir(os.path.abspath(hargraves_path+dir1.value)),value=dirs[dir_ind+1])\n",
    "g =ipywidgets.Dropdown(options=samp_list, value=most_recent_samp_num, description=\"Sample\")\n",
    "coor = ipywidgets.Dropdown(options=['Core', 'Geographic', 'Tilt corrected'], value='Geographic')\n",
    "dl = traitlets.dlink((dir1, 'value'), (dir2, 'options'), transform=in_hargraves_file)"
   ]
  },
  {
   "cell_type": "code",
   "execution_count": 34,
   "metadata": {
    "collapsed": false,
    "extensions": {
     "jupyter_dashboards": {
      "version": 1,
      "views": {
       "grid_default": {
        "col": 0,
        "height": 17,
        "hidden": false,
        "row": 0,
        "width": 12
       },
       "report_default": {}
      }
     }
    }
   },
   "outputs": [
    {
     "data": {
      "image/png": "[encoded data removed]",
      "text/plain": [
       "<matplotlib.figure.Figure at 0x1189d4bd0>"
      ]
     },
     "metadata": {},
     "output_type": "display_data"
    }
   ],
   "source": [
    "box = ipywidgets.HBox([dir1, dir2])\n",
    "# display(box)\n",
    "w = interactive(plot_equal_area, sample_num=g, crd=coor)\n",
    "display(w)"
   ]
  },
  {
   "cell_type": "code",
   "execution_count": 28,
   "metadata": {
    "collapsed": true,
    "extensions": {
     "jupyter_dashboards": {
      "version": 1,
      "views": {
       "grid_default": {
        "hidden": true
       },
       "report_default": {}
      }
     }
    }
   },
   "outputs": [],
   "source": [
    "input_form = \"\"\"\n",
    "<div style=\"border:solid navy; padding:20px;\">\n",
    "<input type=\"file\" id=\"file_selector\" name=\"files[]\"/>\n",
    "<output id=\"list\"></output>\n",
    "</div>\n",
    "\"\"\"\n",
    "\n",
    "javascript = \"\"\"\n",
    "<script type=\"text/Javascript\">\n",
    "  function handleFileSelect(evt) {\n",
    "    var kernel = IPython.notebook.kernel;\n",
    "    var files = evt.target.files; // FileList object\n",
    "    console.log('Executing orig')\n",
    "    console.log(files)\n",
    "    // files is a FileList of File objects. List some properties.\n",
    "    var output = [];\n",
    "    var f = files[0]\n",
    "    output.push('<li><strong>', escape(f.name), '</strong> (', f.type || 'n/a', ') - ',\n",
    "                  f.size, ' bytes, last modified: ',\n",
    "                  f.lastModifiedDate ? f.lastModifiedDate.toLocaleDateString() : 'n/a',\n",
    "                  '</_Mli>');\n",
    "    document.getElementById('list').innerHTML = '<ul>' + output.join('') + '</ul>';\n",
    "    var command = 'fname = \"' + f.name + '\"'\n",
    "    console.log(command)\n",
    "    kernel.execute(command);\n",
    "  }\n",
    "\n",
    "  document.getElementById('file_selector').addEventListener('change', handleFileSelect, false);\n",
    "</script>\n",
    "\"\"\"\n",
    "\n",
    "def file_selector():\n",
    "    from IPython.display import HTML, display\n",
    "    display(HTML(input_form + javascript))\n",
    "    return os.path.abspath(fname)"
   ]
  },
  {
   "cell_type": "code",
   "execution_count": null,
   "metadata": {
    "collapsed": true,
    "extensions": {
     "jupyter_dashboards": {
      "version": 1,
      "views": {
       "grid_default": {
        "hidden": true
       },
       "report_default": {}
      }
     }
    }
   },
   "outputs": [],
   "source": []
  }
 ],
 "metadata": {
  "anaconda-cloud": {},
  "extensions": {
   "jupyter_dashboards": {
    "activeView": "grid_default",
    "version": 1,
    "views": {
     "grid_default": {
      "cellMargin": 10,
      "defaultCellHeight": 20,
      "maxColumns": 12,
      "name": "grid",
      "type": "grid"
     },
     "report_default": {
      "name": "report",
      "type": "report"
     }
    }
   }
  },
  "hide_input": false,
  "kernelspec": {
   "display_name": "Python 2",
   "language": "python",
   "name": "python2"
  },
  "language_info": {
   "codemirror_mode": {
    "name": "ipython",
    "version": 2
   },
   "file_extension": ".py",
   "mimetype": "text/x-python",
   "name": "python",
   "nbconvert_exporter": "python",
   "pygments_lexer": "ipython2",
   "version": "2.7.12"
  },
  "toc": {
   "toc_cell": false,
   "toc_number_sections": false,
   "toc_threshold": 4,
   "toc_window_display": false
  },
  "widgets": {
   "state": {
    "083e00d510ae44b88cc11b8e537bca69": {
     "views": [
      {
       "cell_index": 29
      }
     ]
    },
    "3c7562654a9245bb9ffffb29d64ab031": {
     "views": [
      {
       "cell_index": 18
      }
     ]
    }
   },
   "version": "1.2.0"
  }
 },
 "nbformat": 4,
 "nbformat_minor": 0
}
