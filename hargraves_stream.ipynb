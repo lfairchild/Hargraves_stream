{
 "cells": [
  {
   "cell_type": "code",
   "execution_count": 1,
   "metadata": {
    "collapsed": true,
    "extensions": {
     "jupyter_dashboards": {
      "version": 1,
      "views": {
       "grid_default": {
        "hidden": true
       },
       "report_default": {}
      }
     }
    },
    "init_cell": true
   },
   "outputs": [],
   "source": [
    "import warnings\n",
    "warnings.filterwarnings('ignore')"
   ]
  },
  {
   "cell_type": "code",
   "execution_count": 1,
   "metadata": {
    "collapsed": false,
    "extensions": {
     "jupyter_dashboards": {
      "version": 1,
      "views": {
       "grid_default": {
        "hidden": true
       },
       "report_default": {}
      }
     }
    },
    "init_cell": true
   },
   "outputs": [
    {
     "data": {
      "application/javascript": [
       "\n",
       "        window.Urth = window.Urth || {};\n",
       "        Urth._initialized = Urth._initialized || $.Deferred();\n",
       "        Urth.whenReady = Urth.whenReady || function(cb) {\n",
       "            Urth._initialized.then(function() {\n",
       "                Urth.whenReady(cb);\n",
       "            });\n",
       "        };\n",
       "        Urth.whenReady(function() { console.log(\"Declarative widgets connected.\") });\n",
       "        "
      ],
      "text/plain": [
       "<IPython.core.display.Javascript object>"
      ]
     },
     "metadata": {},
     "output_type": "display_data"
    },
    {
     "name": "stderr",
     "output_type": "stream",
     "text": [
      "/Users/lukefairchild765/anaconda/envs/python2/lib/python2.7/site-packages/matplotlib/__init__.py:1357: UserWarning:  This call to matplotlib.use() has no effect\n",
      "because the backend has already been chosen;\n",
      "matplotlib.use() must be called *before* pylab, matplotlib.pyplot,\n",
      "or matplotlib.backends is imported for the first time.\n",
      "\n",
      "  warnings.warn(_use_error_msg)\n"
     ]
    }
   ],
   "source": [
    "from declarativewidgets import channel\n",
    "import declarativewidgets as decwidgets\n",
    "decwidgets.init()\n",
    "import os\n",
    "import sys\n",
    "if sys.version_info[0] < 3: \n",
    "    from StringIO import StringIO\n",
    "else:\n",
    "    from io import StringIO\n",
    "import pmagpy.ipmag as ipmag\n",
    "import pmagpy.pmag as pmag\n",
    "import pmagpy.pmagplotlib as pmagplotlib\n",
    "import pandas as pd\n",
    "import matplotlib.pyplot as plt#, mpld3\n",
    "import numpy as np\n",
    "from ipywidgets import interact, interactive, fixed\n",
    "import ipywidgets\n",
    "from IPython.display import display\n",
    "from pmagpy.demag_gui_utilities import *\n",
    "import subprocess\n",
    "from hargraves_stream_utilities import *\n",
    "from time import sleep\n",
    "import threading\n",
    "# from IPython.core import interactiveshell\n",
    "%matplotlib inline"
   ]
  },
  {
   "cell_type": "code",
   "execution_count": 3,
   "metadata": {
    "collapsed": false,
    "extensions": {
     "jupyter_dashboards": {
      "version": 1,
      "views": {
       "grid_default": {
        "hidden": true
       },
       "report_default": {}
      }
     }
    }
   },
   "outputs": [],
   "source": [
    "def set_hargraves_path(name=\"~/Dropbox/Hargraves_Data/\"):\n",
    "    global hargraves_path\n",
    "    hargraves_path = name\n",
    "    hargraves_path = os.path.expanduser(hargraves_path)\n",
    "    return hargraves_path\n",
    "set_hargraves_path();"
   ]
  },
  {
   "cell_type": "code",
   "execution_count": 4,
   "metadata": {
    "collapsed": false,
    "extensions": {
     "jupyter_dashboards": {
      "version": 1,
      "views": {
       "grid_default": {
        "col": 0,
        "height": 4,
        "hidden": false,
        "row": 17,
        "width": 4
       },
       "report_default": {}
      }
     }
    },
    "scrolled": true
   },
   "outputs": [
    {
     "data": {
      "text/html": [
       "<template is=\"urth-core-bind\" channel='a'>\n",
       "    <urth-core-function id=\"f\" ref=\"set_hargraves_path\" value=\"{{name}}\" auto></urth-core-function>\n",
       "    <label>Path to Hargraves_Data folder:</label> <input type=\"text\" placeholder=\"{{name}}\" value=\"{{name::input}}\" size=\"35\"></input><br/>\n",
       "</template> "
      ],
      "text/plain": [
       "<IPython.core.display.HTML object>"
      ]
     },
     "metadata": {},
     "output_type": "display_data"
    }
   ],
   "source": [
    "%%html\n",
    "<template is=\"urth-core-bind\" channel='a'>\n",
    "    <urth-core-function id=\"f\" ref=\"set_hargraves_path\" value=\"{{name}}\" auto></urth-core-function>\n",
    "    <label>Path to Hargraves_Data folder:</label> <input type=\"text\" placeholder=\"{{name}}\" value=\"{{name::input}}\" size=\"35\"></input><br/>\n",
    "</template> "
   ]
  },
  {
   "cell_type": "code",
   "execution_count": 5,
   "metadata": {
    "code_folding": [],
    "collapsed": false
   },
   "outputs": [
    {
     "data": {
      "text/html": [
       "<urth-help/>"
      ],
      "text/plain": [
       "<IPython.core.display.HTML object>"
      ]
     },
     "metadata": {},
     "output_type": "display_data"
    }
   ],
   "source": [
    "%%HTML\n",
    "<urth-help/>"
   ]
  },
  {
   "cell_type": "code",
   "execution_count": null,
   "metadata": {
    "collapsed": false,
    "extensions": {
     "jupyter_dashboards": {
      "version": 1,
      "views": {
       "grid_default": {
        "hidden": true
       },
       "report_default": {}
      }
     }
    }
   },
   "outputs": [],
   "source": [
    "def on_name_change(old, new):\n",
    "    hargraves_path = set_hargraves_path(name=new)\n",
    "    msg = \"{}\".format(new)\n",
    "    decwidgets.channel('a').set('message', msg)\n",
    "    \n",
    "decwidgets.channel('a').watch('name', on_name_change)"
   ]
  },
  {
   "cell_type": "code",
   "execution_count": null,
   "metadata": {
    "collapsed": false,
    "extensions": {
     "jupyter_dashboards": {
      "version": 1,
      "views": {
       "grid_default": {
        "hidden": true
       },
       "report_default": {
        "hidden": true
       }
      }
     }
    }
   },
   "outputs": [],
   "source": [
    "%%html\n",
    "<template is='urth-core-bind' channel='a' auto>\n",
    "    <span>Path changed to {{message}}</span>\n",
    "</template>"
   ]
  },
  {
   "cell_type": "code",
   "execution_count": null,
   "metadata": {
    "collapsed": true
   },
   "outputs": [],
   "source": [
    "new_meas_dir = ''\n",
    "new_meas_file = ''\n",
    "new_meas_log = []\n",
    "loop_count=0\n",
    "event = threading.Event()"
   ]
  },
  {
   "cell_type": "code",
   "execution_count": null,
   "metadata": {
    "collapsed": false
   },
   "outputs": [],
   "source": [
    "def get_last_file(main_path):\n",
    "    global new_meas_dir\n",
    "    global new_meas_file\n",
    "    global new_meas_log\n",
    "    global loop_count\n",
    "    global event\n",
    "    while True:\n",
    "        event.wait(10)\n",
    "        new_meas_dir = !find $main_path -type d -print0 | xargs -0 stat -f \"%m %N\" | sort -rn | head -1 | cut -f2- -d\" \"\n",
    "        new_meas_dir = os.path.abspath(new_meas_dir[0])\n",
    "        assert os.path.isdir(new_meas_dir), \"There is something wrong with the path name {}\".format(new_meas_dir)\n",
    "        decwidgets.channel('c').set('counter', loop_count)\n",
    "        new_meas_file = !find $new_meas_dir -name '*.rmg' -type f -print0 | xargs -0 stat -f \"%m %N\" | sort -rn | head -1 | cut -f2- -d\" \"\n",
    "        new_meas_file = os.path.abspath(new_meas_file[0])\n",
    "        assert os.path.isfile(new_meas_file), \"There is something wrong with the path name {}\".format(new_meas_file)\n",
    "        new_meas_log.append([new_meas_dir, new_meas_file])\n",
    "        sleep(5)\n",
    "        loop_count+=1\n",
    "        \n",
    "        \n",
    "#         return [new_meas_dir, new_meas_file]"
   ]
  },
  {
   "cell_type": "code",
   "execution_count": null,
   "metadata": {
    "collapsed": true
   },
   "outputs": [],
   "source": [
    "def on_loop(old,new):\n",
    "    global loop_count\n",
    "    return loop_count\n",
    "\n",
    "decwidgets.channel('c').watch('counter', on_loop)\n",
    "\n",
    "# def on_file_change(old,new):\n",
    "    \n",
    "    \n",
    "#     test_log = open(test_log_path, 'r')\n",
    "#     path_name_list = test_log.readlines()\n",
    "#     test_log.close()\n",
    "#     new = path_name_list[-2]+path_name_list[-1]\n",
    "#     try:\n",
    "#         old = path_name_list[-4]+path_name_list[-3]\n",
    "#     except IndexError:\n",
    "#         decwidgets.channel('b').set('update', True)\n",
    "#         return True\n",
    "#     if new == old:\n",
    "#         decwidgets.channel('b').set('update', False)\n",
    "#         return False\n",
    "#     else:\n",
    "#         decwidgets.channel('b').set('update', True)\n",
    "#         return True"
   ]
  },
  {
   "cell_type": "code",
   "execution_count": null,
   "metadata": {
    "collapsed": false
   },
   "outputs": [],
   "source": [
    "timer = threading.Thread(target = get_last_file, args=[hargraves_path], name='GetHargravesFiles')\n",
    "timer.start()"
   ]
  },
  {
   "cell_type": "code",
   "execution_count": null,
   "metadata": {
    "collapsed": false
   },
   "outputs": [],
   "source": [
    "%%html\n",
    "<template is='urth-core-bind' channel='c' auto>\n",
    "    <span>Loop count is {{counter}}</span>\n",
    "</template>"
   ]
  },
  {
   "cell_type": "code",
   "execution_count": null,
   "metadata": {
    "collapsed": false
   },
   "outputs": [],
   "source": [
    "display(ipywidgets.FloatProgress(20))"
   ]
  },
  {
   "cell_type": "code",
   "execution_count": null,
   "metadata": {
    "collapsed": false,
    "extensions": {
     "jupyter_dashboards": {
      "version": 1,
      "views": {
       "grid_default": {
        "col": 8,
        "height": 4,
        "hidden": false,
        "row": 17,
        "width": 4
       },
       "report_default": {}
      }
     }
    }
   },
   "outputs": [],
   "source": [
    "# %%html\n",
    "# <template is='urth-core-bind' channel='b' auto>\n",
    "#     <urth-core-function id=\"f\" ref=\"on_file_change\" result=\"{{update}}\" auto></urth-core-function>\n",
    "#     <span>UPDATE: {{update}}</span>\n",
    "# </template>"
   ]
  },
  {
   "cell_type": "code",
   "execution_count": null,
   "metadata": {
    "collapsed": false,
    "extensions": {
     "jupyter_dashboards": {
      "version": 1,
      "views": {
       "grid_default": {
        "hidden": true
       },
       "report_default": {}
      }
     }
    }
   },
   "outputs": [],
   "source": [
    "def start_stream():\n",
    "    global stream_status\n",
    "    global event\n",
    "    stream_status=True\n",
    "    event.set()\n",
    "#     get_ipython().run_cell_magic(u'sh', u'--proc GETFILES --bg -s \"$hargraves_path\" \"$test_log_path\"', u'demag_stream.command $1 $2')\n",
    "    return stream_status"
   ]
  },
  {
   "cell_type": "code",
   "execution_count": null,
   "metadata": {
    "collapsed": false,
    "extensions": {
     "jupyter_dashboards": {
      "version": 1,
      "views": {
       "grid_default": {
        "hidden": true
       },
       "report_default": {}
      }
     }
    }
   },
   "outputs": [],
   "source": [
    "def shutdown_stream():\n",
    "    global stream_status\n",
    "    global event\n",
    "    stream_status=False\n",
    "    event.clear()\n",
    "#     !killall bash\n",
    "#     %killbgscripts\n",
    "    return stream_status"
   ]
  },
  {
   "cell_type": "code",
   "execution_count": null,
   "metadata": {
    "collapsed": false,
    "extensions": {
     "jupyter_dashboards": {
      "version": 1,
      "views": {
       "grid_default": {
        "hidden": true
       },
       "report_default": {}
      }
     }
    }
   },
   "outputs": [],
   "source": [
    "from declarativewidgets import channel\n",
    "\n",
    "stream_status=False\n",
    "def toggle_stream():\n",
    "    global stream_status\n",
    "    stream_status = not stream_status\n",
    "#     if stream_status is True:\n",
    "# #         channel('c').set('stream_status', True)\n",
    "#         start_stream();\n",
    "#     else:\n",
    "    if stream_status:\n",
    "        channel('c').set('stream_status', 'LIVE')\n",
    "        channel('c').set('stream_clr', 'green')\n",
    "    else:\n",
    "        channel('c').set('stream_status', 'DEAD')\n",
    "        channel('c').set('stream_clr', 'red')\n",
    "#         shutdown_stream();\n",
    "    if stream_status:\n",
    "        return start_stream();\n",
    "    else:\n",
    "        return shutdown_stream();\n",
    "#     return start_stream() if stream_status else shutdown_stream()\n",
    "decwidgets.channel('c').watch('stream_status', toggle_stream)\n",
    "decwidgets.channel('c').watch('stream_clr', toggle_stream)"
   ]
  },
  {
   "cell_type": "code",
   "execution_count": null,
   "metadata": {
    "collapsed": false,
    "extensions": {
     "jupyter_dashboards": {
      "version": 1,
      "views": {
       "grid_default": {
        "col": 0,
        "height": 4,
        "hidden": false,
        "row": 21,
        "width": 4
       },
       "report_default": {}
      }
     }
    }
   },
   "outputs": [],
   "source": [
    "@interact()\n",
    "def stream(Stream=True):\n",
    "    return toggle_stream();"
   ]
  },
  {
   "cell_type": "code",
   "execution_count": null,
   "metadata": {
    "collapsed": false,
    "extensions": {
     "jupyter_dashboards": {
      "version": 1,
      "views": {
       "grid_default": {
        "col": 4,
        "height": 4,
        "hidden": false,
        "row": 21,
        "width": 4
       },
       "report_default": {}
      }
     }
    }
   },
   "outputs": [],
   "source": [
    "%%html\n",
    "<template is='urth-core-bind' channel='c' auto>\n",
    "    <style>\n",
    "    strong {color:{{stream_clr}};}\n",
    "    </style>\n",
    "    <span><strong>Stream is {{stream_status}}</strong></span>\n",
    "</template>"
   ]
  },
  {
   "cell_type": "code",
   "execution_count": null,
   "metadata": {
    "collapsed": true
   },
   "outputs": [],
   "source": [
    "sleep(5)"
   ]
  },
  {
   "cell_type": "code",
   "execution_count": null,
   "metadata": {
    "collapsed": false,
    "extensions": {
     "jupyter_dashboards": {
      "version": 1,
      "views": {
       "grid_default": {
        "hidden": true
       },
       "report_default": {}
      }
     }
    }
   },
   "outputs": [],
   "source": [
    "def find_most_recent(hargraves_path, dir_path = None):\n",
    "    global new_meas_log\n",
    "    path_name_list = new_meas_log\n",
    "#     log = open(test_log_path, 'r')\n",
    "#     path_name_list = log.readlines()\n",
    "#     log.close()\n",
    "    path_name = path_name_list[-1][0]\n",
    "    if dir_path is None:\n",
    "        dir_path = str(path_name).split('Hargraves_Data/')[1]\n",
    "        file_path = path_name_list[-1][1]\n",
    "    else:\n",
    "        explicit_path = os.path.abspath(hargraves_path+'/'+ dir_path)\n",
    "        rmg_files = !find $explicit_path -name '*.rmg'\n",
    "        file_path = os.path.abspath(rmg_files[0])\n",
    "    full_inp_path = os.path.abspath(hargraves_path+'/'+ dir_path + '/' + os.path.basename(dir_path) + '.inp')\n",
    "    full_sam_path = os.path.abspath(hargraves_path+'/'+ dir_path + '/' + os.path.basename(dir_path) + '.sam')\n",
    "#     print full_inp_path, '\\nexists ---> {}'.format(os.path.isfile(full_inp_path))\n",
    "#     print full_sam_path, '\\nexists ---> {}'.format(os.path.isfile(full_sam_path))\n",
    "    return full_inp_path, full_sam_path, file_path"
   ]
  },
  {
   "cell_type": "code",
   "execution_count": null,
   "metadata": {
    "collapsed": false,
    "extensions": {
     "jupyter_dashboards": {
      "version": 1,
      "views": {
       "grid_default": {
        "hidden": true
       },
       "report_default": {}
      }
     }
    }
   },
   "outputs": [],
   "source": [
    "def get_data(hargraves_path, dir_path = None):\n",
    "    global full_inp_path, full_sam_path, file_path, most_recent_sample, most_recent_samp_num, samp_list, er_specimens, er_sites, er_samples, magic_measurements, datablock, dec_geo, inc_geo, dec_tc, inc_tc \n",
    "    try:\n",
    "        full_inp_path, full_sam_path, file_path = find_most_recent(hargraves_path, dir_path)\n",
    "        most_recent_sample = os.path.splitext(os.path.basename(file_path))[0][:-1]\n",
    "        try:\n",
    "            most_recent_samp_num = most_recent_sample.split('.')[1]\n",
    "        except:\n",
    "            most_recent_samp_num = most_recent_sample.split('-')[1]\n",
    "    except:\n",
    "        return \"No data detected. Turn on stream\"\n",
    "    _, er_specimens, er_sites, er_samples, magic_measurements = read_inp(full_inp_path,full_sam_path)\n",
    "    samp_list = []\n",
    "    all_samp = er_samples.er_sample_name.unique().tolist()\n",
    "    try:\n",
    "        for s in all_samp:\n",
    "            samp_list.append(s.split('.')[1])\n",
    "    except:\n",
    "        for s in all_samp:\n",
    "            samp_list.append(s.split('-')[1])\n",
    "            \n",
    "    sample_name = most_recent_sample\n",
    "    specimen_name = sample_name + 'a'\n",
    "    tr = magic_measurements.ix[magic_measurements.er_specimen_name==specimen_name]['treatment_temp'].tolist()\n",
    "    dec = magic_measurements.ix[magic_measurements.er_specimen_name==specimen_name]['measurement_dec'].tolist()\n",
    "    inc = magic_measurements.ix[magic_measurements.er_specimen_name==specimen_name]['measurement_inc'].tolist()\n",
    "    moment = magic_measurements.ix[magic_measurements.er_specimen_name==specimen_name]['measurement_magn_moment'].tolist()\n",
    "\n",
    "    datablock = map(list, zip(tr, dec, inc, moment))\n",
    "    \n",
    "    sample_info = er_samples.ix[er_samples['er_sample_name']==sample_name]\n",
    "    sample_info.reset_index(inplace=True, drop=True)\n",
    "    dec_geo, inc_geo = [], []\n",
    "    dec_tc, inc_tc = [], []\n",
    "    for n in range(len(dec)):\n",
    "        d, i = pmag.dogeo(dec[n], inc[n], sample_info.sample_azimuth[0], sample_info.sample_dip[0])\n",
    "        dec_geo.append(d)\n",
    "        inc_geo.append(i)\n",
    "    for n in range(len(dec_geo)):\n",
    "        d, i = pmag.dotilt(dec_geo[n], inc_geo[n], sample_info.sample_bed_dip_direction[0], sample_info.sample_bed_dip[0])\n",
    "        dec_tc.append(d)\n",
    "        inc_tc.append(i)\n",
    "    return full_inp_path, full_sam_path, file_path, most_recent_sample, most_recent_samp_num, samp_list, er_specimens, er_sites, er_samples, magic_measurements, datablock, dec_geo, inc_geo, dec_tc, inc_tc "
   ]
  },
  {
   "cell_type": "code",
   "execution_count": null,
   "metadata": {
    "collapsed": false
   },
   "outputs": [],
   "source": [
    "def reload_data(dir_path = None):\n",
    "    global hargraves_path\n",
    "#     global full_inp_path, full_sam_path,file_path, most_recent_sample,most_recent_samp_num, samp_list, er_specimens,er_sites, er_samples, magic_measurements, datablock, dec_geo, inc_geo, dec_tc, inc_tc\n",
    "#     full_inp_path, full_sam_path,file_path, most_recent_sample,most_recent_samp_num, samp_list, er_specimens,er_sites, er_samples, magic_measurements, datablock, dec_geo, inc_geo, dec_tc, inc_tc = get_data(hargraves_path, dir_path)\n",
    "    return get_data(hargraves_path, dir_path)\n",
    "reload_data();"
   ]
  },
  {
   "cell_type": "code",
   "execution_count": null,
   "metadata": {
    "collapsed": false,
    "extensions": {
     "jupyter_dashboards": {
      "version": 1,
      "views": {
       "grid_default": {
        "hidden": true
       },
       "report_default": {}
      }
     }
    }
   },
   "outputs": [],
   "source": [
    "#@interact(sample_num = samp_list, crd=['Core', 'Geographic', 'Tilt corrected'])\n",
    "# def plot_equal_area(sample_num = most_recent_samp_num, crd='Geographic'):\n",
    "def plot_equal_area(sample_num, crd='Geographic'):\n",
    "    sample = str(sample_num)\n",
    "    if '-' in str(magic_measurements['er_specimen_name'][0]):\n",
    "        sample_name = magic_measurements.er_site_name.unique()[0]+'-'+sample\n",
    "    elif '.' in str(magic_measurements['er_specimen_name'][0]):\n",
    "        sample_name = magic_measurements.er_site_name.unique()[0]+'.'+sample\n",
    "    specimen_name = sample_name + 'a'\n",
    "    tr = magic_measurements.ix[magic_measurements.er_specimen_name==specimen_name]['treatment_temp'].tolist()\n",
    "    dec = magic_measurements.ix[magic_measurements.er_specimen_name==specimen_name]['measurement_dec'].tolist()\n",
    "    inc = magic_measurements.ix[magic_measurements.er_specimen_name==specimen_name]['measurement_inc'].tolist()\n",
    "    moment = magic_measurements.ix[magic_measurements.er_specimen_name==specimen_name]['measurement_magn_moment'].tolist()\n",
    "\n",
    "    sample_info = er_samples.ix[er_samples['er_sample_name']==sample_name]\n",
    "    sample_info.reset_index(inplace=True, drop=True)\n",
    "    dec_geo, inc_geo = [], []\n",
    "    dec_tc, inc_tc = [], []\n",
    "    for n in range(len(dec)):\n",
    "        d, i = pmag.dogeo(dec[n], inc[n], sample_info.sample_azimuth[0], sample_info.sample_dip[0])\n",
    "        dec_geo.append(d)\n",
    "        inc_geo.append(i)\n",
    "    for n in range(len(dec_geo)):\n",
    "        d, i = pmag.dotilt(dec_geo[n], inc_geo[n], sample_info.sample_bed_dip_direction[0], sample_info.sample_bed_dip[0])\n",
    "        dec_tc.append(d)\n",
    "        inc_tc.append(i)\n",
    "\n",
    "    \n",
    "    fig = plt.figure(figsize=(15,5))\n",
    "    ax1 = plt.subplot2grid((1,3), (0,0), colspan=1)\n",
    "    plt.axis(\"off\")\n",
    "    plot_net()\n",
    "\n",
    "    if crd=='Core':\n",
    "        datablock = map(list, zip(tr, dec, inc, moment))\n",
    "        ipmag.plot_di(dec,inc)\n",
    "    elif crd=='Geographic':\n",
    "        datablock = map(list, zip(tr, dec_geo, inc_geo, moment))\n",
    "        ipmag.plot_di(dec_geo, inc_geo)\n",
    "    elif crd=='Tilt corrected':\n",
    "        datablock = map(list, zip(tr, dec_tc, inc_tc, moment))\n",
    "        ipmag.plot_di(dec_tc, inc_tc)\n",
    "\n",
    "    ax2 = plt.subplot2grid((1,3), (0,1), colspan=1)\n",
    "    plt.axis(\"off\")\n",
    "    plotZ(datablock, 90, specimen_name, 0)\n",
    "\n",
    "    ax3 = plt.subplot2grid((1,3), (0,2), colspan=1)\n",
    "    plt.axis(\"on\")\n",
    "    plotMT(datablock,specimen_name, 1, 'K',1)\n",
    "    \n",
    "    plt.tight_layout()\n",
    "    plt.show()"
   ]
  },
  {
   "cell_type": "code",
   "execution_count": null,
   "metadata": {
    "collapsed": true,
    "extensions": {
     "jupyter_dashboards": {
      "version": 1,
      "views": {
       "grid_default": {
        "hidden": true
       },
       "report_default": {}
      }
     }
    }
   },
   "outputs": [],
   "source": [
    "import traitlets"
   ]
  },
  {
   "cell_type": "code",
   "execution_count": null,
   "metadata": {
    "collapsed": false
   },
   "outputs": [],
   "source": [
    "full_sam_path"
   ]
  },
  {
   "cell_type": "code",
   "execution_count": null,
   "metadata": {
    "collapsed": false,
    "extensions": {
     "jupyter_dashboards": {
      "version": 1,
      "views": {
       "grid_default": {
        "hidden": true
       },
       "report_default": {}
      }
     }
    },
    "scrolled": false
   },
   "outputs": [],
   "source": [
    "# dirs = full_sam_path.split('/')\n",
    "# for direct in range(len(dirs)):\n",
    "#     if dirs[direct]=='Hargraves_Data':\n",
    "#         dir_ind = direct + 1\n",
    "def in_hargraves_file(value):\n",
    "    global hargraves_path\n",
    "    if value == 0:\n",
    "        options = os.listdir(os.path.abspath(hargraves_path))\n",
    "        return options\n",
    "    try:\n",
    "        options = os.listdir(os.path.abspath(hargraves_path+value))\n",
    "        return options\n",
    "    except:\n",
    "        folder = !find $hargraves_path -name $value\n",
    "        options = os.listdir(os.path.abspath(folder[0]))\n",
    "        return options\n",
    "    \n",
    "def return_new_samp_list(new_dir, new_dd_list=None, return_sam_path = False):\n",
    "    global hargraves_path\n",
    "    global dd_list\n",
    "    global samp_list\n",
    "    global full_sam_path\n",
    "#     path_to_load = os.path.join(hargraves_path, directory_name)\n",
    "    if new_dd_list is not None:\n",
    "        dd_list = new_dd_list\n",
    "    path_to_load = [str(dd_list[i].value) for i in range(len(dd_list)-1)]\n",
    "    path_to_load = os.path.join(hargraves_path, reduce(lambda x, y: x +'/'+ y, path_to_load)) \n",
    "    reloaded_path = !find $path_to_load -name '*.sam'\n",
    "    reloaded_dir = os.path.dirname(reloaded_path[0])\n",
    "#     if new_dir is not None:\n",
    "#     while reloaded_dir != dd_list:\n",
    "#         dd_list = dd_list[:-1]\n",
    "        \n",
    "    if not os.path.isdir(reloaded_dir):\n",
    "        dd_list = dd_list[:-1]\n",
    "        return reload_all(new_dir, dd_list)\n",
    "    else:\n",
    "        full_sam_path = reloaded_path[0]\n",
    "        reload_data(reloaded_dir.split('Hargraves_Data/')[1])\n",
    "    #     g =ipywidgets.Dropdown(options=samp_list, value=most_recent_samp_num, description=\"Sample\")\n",
    "    return samp_list\n",
    "    \n",
    "def reload_all(new_dir, new_dd_list=None, return_sam_path = False):\n",
    "    global hargraves_path\n",
    "    global dd_list\n",
    "    global samp_list\n",
    "    global full_sam_path\n",
    "#     path_to_load = os.path.join(hargraves_path, directory_name)\n",
    "    if new_dd_list is not None:\n",
    "        dd_list = new_dd_list\n",
    "    path_to_load = [str(dd_list[i].value) for i in range(len(dd_list)-1)]\n",
    "    path_to_load = os.path.join(hargraves_path, reduce(lambda x, y: x +'/'+ y, path_to_load)) \n",
    "    reloaded_path = !find $path_to_load -name '*.sam'\n",
    "    reloaded_dir = os.path.dirname(reloaded_path[0])\n",
    "#     if new_dir is not None:\n",
    "#     while reloaded_dir != dd_list:\n",
    "#         dd_list = dd_list[:-1]\n",
    "        \n",
    "    if not os.path.isdir(reloaded_dir):\n",
    "        dd_list = dd_list[:-1]\n",
    "        return reload_all(new_dir, dd_list)\n",
    "    else:\n",
    "        full_sam_path = reloaded_path[0]\n",
    "        reload_data(reloaded_dir.split('Hargraves_Data/')[1])\n",
    "    #     g =ipywidgets.Dropdown(options=samp_list, value=most_recent_samp_num, description=\"Sample\")\n",
    "        if return_sam_path is False:\n",
    "            return samp_list\n",
    "        else:\n",
    "            return full_sam_path"
   ]
  },
  {
   "cell_type": "code",
   "execution_count": null,
   "metadata": {
    "collapsed": false
   },
   "outputs": [],
   "source": [
    "def make_dropdowns(new_full_sam_path=None):\n",
    "    global hargraves_path\n",
    "    global full_sam_path\n",
    "    global samp_list\n",
    "    global most_recent_samp_num\n",
    "    global dd_list\n",
    "    \n",
    "    if new_full_sam_path is not None and new_full_sam_path != full_sam_path:\n",
    "        full_sam_path = new_full_sam_path\n",
    "#     else:\n",
    "# #         global dd_list, traitlet_list, g, coor\n",
    "#         return dd_list, traitlet_list, g, coor\n",
    "    abs_dirs = full_sam_path.split('Hargraves_Data/')[1]\n",
    "    dirs = abs_dirs.split('/')\n",
    "    print dirs\n",
    "    dd_list = []\n",
    "    for direct in range(len(dirs)-1):\n",
    "        if direct==0:\n",
    "            dd_list.append(ipywidgets.Dropdown(options=in_hargraves_file(0),value=dirs[direct]))\n",
    "        else:\n",
    "            dd_list.append(ipywidgets.Dropdown(options=in_hargraves_file(dirs[direct-1]),value=dirs[direct]))\n",
    "    g =ipywidgets.Dropdown(options=samp_list, value=most_recent_samp_num, description=\"Sample\")\n",
    "    coor = ipywidgets.Dropdown(options=['Core', 'Geographic', 'Tilt corrected'], value='Geographic')\n",
    "    traitlet_list = []\n",
    "    for i in range(len(dd_list)-1):\n",
    "        traitlet_list.append(traitlets.dlink((dd_list[i], 'value'), (dd_list[i+1], 'options'), transform=in_hargraves_file))\n",
    "    traitlet_list.append(traitlets.dlink((dd_list[-1], 'value'), (g, 'options'), transform=return_new_samp_list))\n",
    "    return dd_list, traitlet_list, g, coor\n",
    "dd_list, traitlet_list, g, coor = make_dropdowns()\n",
    "# make_dropdowns();"
   ]
  },
  {
   "cell_type": "code",
   "execution_count": null,
   "metadata": {
    "collapsed": false,
    "extensions": {
     "jupyter_dashboards": {
      "version": 1,
      "views": {
       "grid_default": {
        "col": 0,
        "height": 17,
        "hidden": false,
        "row": 0,
        "width": 12
       },
       "report_default": {}
      }
     }
    },
    "scrolled": false
   },
   "outputs": [],
   "source": [
    "# box_label = ipywidgets.Label('Path')\n",
    "# box = ipywidgets.HBox(dd_list, description='Path')\n",
    "# display(box_label)\n",
    "# display(box)\n",
    "# w = interactive(plot_equal_area, sample_num=g, crd=coor)\n",
    "# display(w)\n",
    "def close_widgets(wid_list):\n",
    "    for widget in wid_list:\n",
    "        widget.close()\n",
    "\n",
    "def reload_plots(change):\n",
    "    try:\n",
    "        global box\n",
    "        global w\n",
    "        close_widgets([box,w])\n",
    "    except:\n",
    "        pass\n",
    "    global dd_list, traitlet_list, g, coor\n",
    "    new_sam_path = reload_all(None,return_sam_path=True)\n",
    "#     make_dropdowns(new_sam_path)\n",
    "    new_dd_list, traitlet_list, g, coor = make_dropdowns(new_sam_path)\n",
    "#     box.children = dd_list\n",
    "#     box.comm.notify_change({'children':tuple(dd_list)})\n",
    "    box = ipywidgets.HBox(children=new_dd_list, description='Path', _fire_children_displayed=True)\n",
    "#     box.children = tuple(dd_list)\n",
    "    display(box)\n",
    "    w = interactive(plot_equal_area, sample_num=g, crd=coor)\n",
    "    display(w)\n",
    "    dd_list = new_dd_list\n",
    "    return new_dd_list\n",
    "reload_plots(None)\n",
    "#     return box\n",
    "    \n",
    "\n",
    "# dd_list[-1].observe(reload_plots, names='value')\n",
    "\n",
    "# box.\n",
    "# reload_plots(None)\n",
    "# # box.observe(reload_plots,names=traitlet_list[-1])\n",
    "# display(ipywidgets.HBox(children=dd_list, description='Path', name='Path'))\n",
    "# box.observe(reload_plots)\n",
    "# box.comm.notify_change(box.observe(reload_plots))\n",
    "# box.children.observe(reload_plots)\n",
    "# box.children[-1].on_submit(reload_plots)\n",
    "# box.observe(reload_plots)\n",
    "# traitlets.link((dd_list[-1], 'value'), (g, 'options'))"
   ]
  },
  {
   "cell_type": "code",
   "execution_count": null,
   "metadata": {
    "collapsed": true
   },
   "outputs": [],
   "source": [
    "def make_dropdowns(new_full_sam_path=None):\n",
    "    global hargraves_path\n",
    "    global full_sam_path\n",
    "    global samp_list\n",
    "    global most_recent_samp_num\n",
    "    global dd_list\n",
    "    \n",
    "    if new_full_sam_path is not None and new_full_sam_path != full_sam_path:\n",
    "        full_sam_path = new_full_sam_path\n",
    "#     else:\n",
    "# #         global dd_list, traitlet_list, g, coor\n",
    "#         return dd_list, traitlet_list, g, coor\n",
    "    abs_dirs = full_sam_path.split('Hargraves_Data/')[1]\n",
    "    dirs = abs_dirs.split('/')\n",
    "#     return dirs[:-1]\n",
    "    dd_list = {}\n",
    "    for direct in range(len(dirs)-1):\n",
    "        if direct==0:\n",
    "            dd_list['hargraves'] = in_hargraves_file(0)\n",
    "        else:\n",
    "            dd_list[dirs[direct-1]] = in_hargraves_file(dirs[direct-1])\n",
    "    return dd_list\n",
    "#     g =ipywidgets.Dropdown(options=samp_list, value=most_recent_samp_num, description=\"Sample\")\n",
    "#     coor = ipywidgets.Dropdown(options=['Core', 'Geographic', 'Tilt corrected'], value='Geographic')\n",
    "#     traitlet_list = []\n",
    "#     for i in range(len(dd_list)-1):\n",
    "#         traitlet_list.append(traitlets.dlink((dd_list[i], 'value'), (dd_list[i+1], 'options'), transform=in_hargraves_file))\n",
    "#     traitlet_list.append(traitlets.dlink((dd_list[-1], 'value'), (g, 'options'), transform=return_new_samp_list))\n",
    "#     return dd_list, traitlet_list, g, coor"
   ]
  },
  {
   "cell_type": "code",
   "execution_count": null,
   "metadata": {
    "collapsed": false
   },
   "outputs": [],
   "source": [
    "but_list = make_dropdowns(full_sam_path)"
   ]
  },
  {
   "cell_type": "code",
   "execution_count": null,
   "metadata": {
    "collapsed": false
   },
   "outputs": [],
   "source": [
    "but_list"
   ]
  },
  {
   "cell_type": "code",
   "execution_count": null,
   "metadata": {
    "collapsed": false
   },
   "outputs": [],
   "source": [
    "%%html\n",
    "<template is=\"urth-core-bind\" channel='d'>\n",
    "    <urth-core-function id=\"f\" ref=\"set_hargraves_path\" value=\"{{name}}\" auto></urth-core-function>\n",
    "    <label>Path to Hargraves_Data folder:</label> <input type=\"text\" placeholder=\"{{name}}\" value=\"{{name::input}}\" size=\"35\"></input><br/>\n",
    "</template> "
   ]
  },
  {
   "cell_type": "code",
   "execution_count": null,
   "metadata": {
    "collapsed": true
   },
   "outputs": [],
   "source": []
  },
  {
   "cell_type": "code",
   "execution_count": null,
   "metadata": {
    "collapsed": false
   },
   "outputs": [],
   "source": [
    "box._display_callbacks"
   ]
  },
  {
   "cell_type": "code",
   "execution_count": null,
   "metadata": {
    "collapsed": false
   },
   "outputs": [],
   "source": [
    "box.has_trait('children')"
   ]
  },
  {
   "cell_type": "code",
   "execution_count": null,
   "metadata": {
    "collapsed": false
   },
   "outputs": [],
   "source": [
    "change"
   ]
  },
  {
   "cell_type": "code",
   "execution_count": null,
   "metadata": {
    "collapsed": false
   },
   "outputs": [],
   "source": [
    "traitlets.HasTraits(box).observe(reset_box_children, names='children')"
   ]
  },
  {
   "cell_type": "code",
   "execution_count": null,
   "metadata": {
    "collapsed": false
   },
   "outputs": [],
   "source": [
    "box._display_callbacks?"
   ]
  },
  {
   "cell_type": "code",
   "execution_count": null,
   "metadata": {
    "collapsed": false
   },
   "outputs": [],
   "source": [
    "dd_list"
   ]
  },
  {
   "cell_type": "code",
   "execution_count": null,
   "metadata": {
    "collapsed": false,
    "scrolled": false
   },
   "outputs": [],
   "source": [
    "%%capture --no-stdout --no-display erros\n",
    "updated = 0\n",
    "def reset_box_children(change):\n",
    "    change['old'] = change['owner'].children\n",
    "    change['new'] = tuple(reload_plots(None))\n",
    "    global updated\n",
    "    updated = change['new']\n",
    "    return change['new']\n",
    "# box_comm.observe(reload_plots)\n",
    "# box_child_traitlet = traitlets.dlink((box.children[1], 'change'),(box, 'children'), transform=reset_box_children)\n",
    "traitlets.HasTraits(box).observe(reset_box_children, names='children')\n",
    "display(box)\n",
    "# site_sample_traitlet = traitlets.dlink((box.children[-1], 'value'),(w.children[0], 'options'), transform=return_new_samp_list)\n",
    "interact(w)\n",
    "# display(ipywidgets.HBox(children=dd_list, description='Path', name='Path'))"
   ]
  },
  {
   "cell_type": "code",
   "execution_count": 68,
   "metadata": {
    "collapsed": true,
    "extensions": {
     "jupyter_dashboards": {
      "version": 1,
      "views": {
       "grid_default": {
        "hidden": true
       },
       "report_default": {}
      }
     }
    }
   },
   "outputs": [],
   "source": [
    "input_form = \"\"\"\n",
    "<div style=\"border:solid navy; padding:20px;\">\n",
    "<input type=\"file\" id=\"file_selector\" name=\"files[]\" webkitdirectory directory/>\n",
    "<output id=\"list\"></output>\n",
    "</div>\n",
    "\"\"\"\n",
    "\n",
    "javascript = \"\"\"\n",
    "<script type=\"text/Javascript\">\n",
    "  function handleFileSelect(evt) {\n",
    "    var kernel = IPython.notebook.kernel;\n",
    "    var files = evt.target.files; // FileList object\n",
    "    console.log('Executing orig')\n",
    "    console.log(files)\n",
    "    // files is a FileList of File objects. List some properties.\n",
    "    var output = [];\n",
    "    var f = files[0]\n",
    "    output.push('<li><strong>', escape(f.name), '</strong> (', f.type || 'n/a', ') - ',\n",
    "                  f.size, ' bytes, last modified: ',\n",
    "                  f.lastModifiedDate ? f.lastModifiedDate.toLocaleDateString() : 'n/a',\n",
    "                  '</_Mli>');\n",
    "    document.getElementById('list').innerHTML = '<ul>' + output.join('') + '</ul>';\n",
    "    var command = 'fname = \"' + f.name + '\"'\n",
    "    console.log(command)\n",
    "    kernel.execute(command);\n",
    "  }\n",
    "\n",
    "  document.getElementById('file_selector').addEventListener('change', handleFileSelect, false);\n",
    "</script>\n",
    "\"\"\"\n",
    "\n",
    "def file_selector():\n",
    "    from IPython.display import HTML, display\n",
    "    %cd hargraves_path\n",
    "    display(HTML(input_form + javascript))\n",
    "    print f.name\n",
    "    return f.name"
   ]
  },
  {
   "cell_type": "code",
   "execution_count": 69,
   "metadata": {
    "collapsed": false,
    "extensions": {
     "jupyter_dashboards": {
      "version": 1,
      "views": {
       "grid_default": {
        "hidden": true
       },
       "report_default": {}
      }
     }
    }
   },
   "outputs": [
    {
     "name": "stdout",
     "output_type": "stream",
     "text": [
      "[Errno 2] No such file or directory: 'hargraves_path'\n",
      "/Users/lukefairchild765/GitHub_files/Hargraves_stream\n"
     ]
    },
    {
     "data": {
      "text/html": [
       "\n",
       "<div style=\"border:solid navy; padding:20px;\">\n",
       "<input type=\"file\" id=\"file_selector\" name=\"files[]\" webkitdirectory directory/>\n",
       "<output id=\"list\"></output>\n",
       "</div>\n",
       "\n",
       "<script type=\"text/Javascript\">\n",
       "  function handleFileSelect(evt) {\n",
       "    var kernel = IPython.notebook.kernel;\n",
       "    var files = evt.target.files; // FileList object\n",
       "    console.log('Executing orig')\n",
       "    console.log(files)\n",
       "    // files is a FileList of File objects. List some properties.\n",
       "    var output = [];\n",
       "    var f = files[0]\n",
       "    output.push('<li><strong>', escape(f.name), '</strong> (', f.type || 'n/a', ') - ',\n",
       "                  f.size, ' bytes, last modified: ',\n",
       "                  f.lastModifiedDate ? f.lastModifiedDate.toLocaleDateString() : 'n/a',\n",
       "                  '</_Mli>');\n",
       "    document.getElementById('list').innerHTML = '<ul>' + output.join('') + '</ul>';\n",
       "    var command = 'fname = \"' + f.name + '\"'\n",
       "    console.log(command)\n",
       "    kernel.execute(command);\n",
       "  }\n",
       "\n",
       "  document.getElementById('file_selector').addEventListener('change', handleFileSelect, false);\n",
       "</script>\n"
      ],
      "text/plain": [
       "<IPython.core.display.HTML object>"
      ]
     },
     "metadata": {},
     "output_type": "display_data"
    },
    {
     "ename": "NameError",
     "evalue": "global name 'f' is not defined",
     "output_type": "error",
     "traceback": [
      "\u001b[0;31m---------------------------------------------------------------------------\u001b[0m",
      "\u001b[0;31mNameError\u001b[0m                                 Traceback (most recent call last)",
      "\u001b[0;32m<ipython-input-69-01c32bf1d4f4>\u001b[0m in \u001b[0;36m<module>\u001b[0;34m()\u001b[0m\n\u001b[0;32m----> 1\u001b[0;31m \u001b[0mfile_selector\u001b[0m\u001b[0;34m(\u001b[0m\u001b[0;34m)\u001b[0m\u001b[0;34m\u001b[0m\u001b[0m\n\u001b[0m",
      "\u001b[0;32m<ipython-input-68-fa43447a3543>\u001b[0m in \u001b[0;36mfile_selector\u001b[0;34m()\u001b[0m\n\u001b[1;32m     34\u001b[0m     \u001b[0mget_ipython\u001b[0m\u001b[0;34m(\u001b[0m\u001b[0;34m)\u001b[0m\u001b[0;34m.\u001b[0m\u001b[0mmagic\u001b[0m\u001b[0;34m(\u001b[0m\u001b[0;34mu'cd hargraves_path'\u001b[0m\u001b[0;34m)\u001b[0m\u001b[0;34m\u001b[0m\u001b[0m\n\u001b[1;32m     35\u001b[0m     \u001b[0mdisplay\u001b[0m\u001b[0;34m(\u001b[0m\u001b[0mHTML\u001b[0m\u001b[0;34m(\u001b[0m\u001b[0minput_form\u001b[0m \u001b[0;34m+\u001b[0m \u001b[0mjavascript\u001b[0m\u001b[0;34m)\u001b[0m\u001b[0;34m)\u001b[0m\u001b[0;34m\u001b[0m\u001b[0m\n\u001b[0;32m---> 36\u001b[0;31m     \u001b[0;32mprint\u001b[0m \u001b[0mf\u001b[0m\u001b[0;34m.\u001b[0m\u001b[0mname\u001b[0m\u001b[0;34m\u001b[0m\u001b[0m\n\u001b[0m\u001b[1;32m     37\u001b[0m     \u001b[0;32mreturn\u001b[0m \u001b[0mf\u001b[0m\u001b[0;34m.\u001b[0m\u001b[0mname\u001b[0m\u001b[0;34m\u001b[0m\u001b[0m\n",
      "\u001b[0;31mNameError\u001b[0m: global name 'f' is not defined"
     ]
    }
   ],
   "source": [
    "file_selector()"
   ]
  },
  {
   "cell_type": "code",
   "execution_count": 71,
   "metadata": {
    "collapsed": false
   },
   "outputs": [
    {
     "data": {
      "text/html": [
       "\n",
       "<div style=\"border:solid navy; padding:20px;\">\n",
       "<input type=\"file\" id=\"file_selector\" name=\"files[]\"/>\n",
       "<output id=\"list\"></output>\n",
       "</div>\n",
       "\n",
       "<script type=\"text/Javascript\">\n",
       "  function handleFileSelect(evt) {\n",
       "    var kernel = IPython.notebook.kernel;\n",
       "    var files = evt.target.files; // FileList object\n",
       "    console.log('Executing orig')\n",
       "    console.log(files)\n",
       "    // files is a FileList of File objects. List some properties.\n",
       "    var output = [];\n",
       "    var f = files[0]\n",
       "    output.push('<li><strong>', escape(f.name), '</strong> (', f.type || 'n/a', ') - ',\n",
       "                  f.size, ' bytes, last modified: ',\n",
       "                  f.lastModifiedDate ? f.lastModifiedDate.toLocaleDateString() : 'n/a',\n",
       "                  '</_Mli>');\n",
       "    document.getElementById('list').innerHTML = '<ul>' + output.join('') + '</ul>';\n",
       "    var command = 'fname = \"' + f.name + '\"'\n",
       "    console.log(command)\n",
       "    kernel.execute(command);\n",
       "  }\n",
       "\n",
       "  document.getElementById('file_selector').addEventListener('change', handleFileSelect, false);\n",
       "</script>\n"
      ],
      "text/plain": [
       "<IPython.core.display.HTML object>"
      ]
     },
     "metadata": {},
     "output_type": "display_data"
    }
   ],
   "source": [
    "input_form = \"\"\"\n",
    "<div style=\"border:solid navy; padding:20px;\">\n",
    "<input type=\"file\" id=\"file_selector\" name=\"files[]\"/>\n",
    "<output id=\"list\"></output>\n",
    "</div>\n",
    "\"\"\"\n",
    "\n",
    "javascript = \"\"\"\n",
    "<script type=\"text/Javascript\">\n",
    "  function handleFileSelect(evt) {\n",
    "    var kernel = IPython.notebook.kernel;\n",
    "    var files = evt.target.files; // FileList object\n",
    "    console.log('Executing orig')\n",
    "    console.log(files)\n",
    "    // files is a FileList of File objects. List some properties.\n",
    "    var output = [];\n",
    "    var f = files[0]\n",
    "    output.push('<li><strong>', escape(f.name), '</strong> (', f.type || 'n/a', ') - ',\n",
    "                  f.size, ' bytes, last modified: ',\n",
    "                  f.lastModifiedDate ? f.lastModifiedDate.toLocaleDateString() : 'n/a',\n",
    "                  '</_Mli>');\n",
    "    document.getElementById('list').innerHTML = '<ul>' + output.join('') + '</ul>';\n",
    "    var command = 'fname = \"' + f.name + '\"'\n",
    "    console.log(command)\n",
    "    kernel.execute(command);\n",
    "  }\n",
    "\n",
    "  document.getElementById('file_selector').addEventListener('change', handleFileSelect, false);\n",
    "</script>\n",
    "\"\"\"\n",
    "\n",
    "def file_selector():\n",
    "    from IPython.display import HTML, display\n",
    "    display(HTML(input_form + javascript))\n",
    "file_selector()"
   ]
  },
  {
   "cell_type": "code",
   "execution_count": 27,
   "metadata": {
    "collapsed": false
   },
   "outputs": [],
   "source": [
    "def get_data(hargraves_path, dir_path = None):\n",
    "#     global full_inp_path, full_sam_path, file_path, most_recent_sample, most_recent_samp_num, samp_list, er_specimens, er_sites, er_samples, magic_measurements, datablock, dec_geo, inc_geo, dec_tc, inc_tc \n",
    "    try:\n",
    "        full_inp_path, full_sam_path, file_path = find_most_recent(hargraves_path, dir_path)\n",
    "        most_recent_sample = os.path.splitext(os.path.basename(file_path))[0][:-1]\n",
    "        try:\n",
    "            most_recent_samp_num = most_recent_sample.split('.')[1]\n",
    "        except:\n",
    "            most_recent_samp_num = most_recent_sample.split('-')[1]\n",
    "    except:\n",
    "        pass\n",
    "#         return \"No data detected. Turn on stream\"\n",
    "    full_path = os.path.abspath(hargraves_path + '/' + dir_path)\n",
    "    full_sam_path = os.path.abspath(full_path + '/' + os.path.basename(full_path) + '.sam')\n",
    "    er_specimens, er_sites, er_samples, magic_measurements = read_inp(None,full_sam_path)\n",
    "    samp_list = []\n",
    "    all_samp = er_samples.er_sample_name.unique().tolist()\n",
    "    try:\n",
    "        for s in all_samp:\n",
    "            samp_list.append(s.split('.')[1])\n",
    "    except:\n",
    "        for s in all_samp:\n",
    "            samp_list.append(s.split('-')[1])\n",
    "#     sample_name = er_specimens.er_specimen_name.tolist()[0]\n",
    "    sample_name = str(er_specimens.er_sample_name.tolist()[0])\n",
    "    specimen_name = sample_name + 'a'\n",
    "#     specimen_name = str(er_specimens.er_specimen_name.tolist()[0])\n",
    "    tr = magic_measurements.ix[magic_measurements.er_specimen_name==specimen_name]['treatment_temp'].tolist()\n",
    "    dec = magic_measurements.ix[magic_measurements.er_specimen_name==specimen_name]['measurement_dec'].tolist()\n",
    "    inc = magic_measurements.ix[magic_measurements.er_specimen_name==specimen_name]['measurement_inc'].tolist()\n",
    "    moment = magic_measurements.ix[magic_measurements.er_specimen_name==specimen_name]['measurement_magn_moment'].tolist()\n",
    "\n",
    "    datablock = map(list, zip(tr, dec, inc, moment))\n",
    "    \n",
    "    sample_info = er_samples.ix[er_samples['er_sample_name']==sample_name]\n",
    "    sample_info.reset_index(inplace=True, drop=True)\n",
    "    dec_geo, inc_geo = [], []\n",
    "    dec_tc, inc_tc = [], []\n",
    "    for n in range(len(dec)):\n",
    "        d, i = pmag.dogeo(dec[n], inc[n], sample_info.sample_azimuth[0], sample_info.sample_dip[0])\n",
    "        dec_geo.append(d)\n",
    "        inc_geo.append(i)\n",
    "    for n in range(len(dec_geo)):\n",
    "        d, i = pmag.dotilt(dec_geo[n], inc_geo[n], sample_info.sample_bed_dip_direction[0], sample_info.sample_bed_dip[0])\n",
    "        dec_tc.append(d)\n",
    "        inc_tc.append(i)\n",
    "    measurements = {'er_specimens':er_specimens, 'er_sites':er_sites, \n",
    "                    'er_samples':er_samples, 'magic_measurements':magic_measurements, \n",
    "                    'datablock':datablock, 'dec_geo':dec_geo, 'inc_geo':inc_geo, \n",
    "                    'dec_tc':dec_tc, 'inc_tc':inc_tc, 'samp_list':samp_list, 'dec':dec, 'inc':inc, 'treatment':tr, 'moment':moment}\n",
    "    return measurements\n",
    "#     return full_inp_path, full_sam_path, file_path, most_recent_sample, most_recent_samp_num, samp_list, er_specimens, er_sites, er_samples, magic_measurements, datablock, dec_geo, inc_geo, dec_tc, inc_tc "
   ]
  },
  {
   "cell_type": "code",
   "execution_count": 28,
   "metadata": {
    "collapsed": false
   },
   "outputs": [],
   "source": [
    "# er_specimens, er_sites, er_samples, magic_measurements, datablock, dec_geo, inc_geo, dec_tc, inc_tc = \n",
    "measurements = get_data('/Users/lukefairchild765/Dropbox/Hargraves_Data/', 'Keweenawan/Gooseberry/GB1-/')"
   ]
  },
  {
   "cell_type": "code",
   "execution_count": 66,
   "metadata": {
    "collapsed": false
   },
   "outputs": [],
   "source": [
    "# @interact(data=measurements, sample_num = measurements['samp_list'], crd=['Core', 'Geographic', 'Tilt corrected'])\n",
    "# g =ipywidgets.Dropdown(options=measurements['samp_list'], description=\"Sample\")\n",
    "# coor = ipywidgets.Dropdown(options=['Core', 'Geographic', 'Tilt corrected'], value='Geographic')\n",
    "# @interact(sample_num=measurements['samp_list'], crd=['Core', 'Geographic', 'Tilt corrected'])\n",
    "def plot_equal_area(sample_num=1,crd='Geographic'):\n",
    "#     sample_num =ipywidgets.Dropdown(options=data['samp_list'], description=\"Sample\").get_state()['value']\n",
    "#     crd = ipywidgets.Dropdown(options=['Core', 'Geographic', 'Tilt corrected'], value='Geographic')\n",
    "#     display(sample_num)\n",
    "#     display(crd)\n",
    "    global measurements\n",
    "    data = measurements\n",
    "    magic_measurements = data['magic_measurements']\n",
    "    er_samples = data['er_samples']\n",
    "    er_sites = data['er_sites']\n",
    "    er_specimens = data['er_specimens']\n",
    "    dec = data['dec']\n",
    "    inc = data['inc']\n",
    "    dec_geo = data['dec_geo']\n",
    "    inc_geo = data['inc_geo']\n",
    "    dec_tc = data['dec_tc']\n",
    "    inc_tc = data['inc_tc']\n",
    "    tr = data['treatment']\n",
    "    moment = data['moment']\n",
    "    \n",
    "    sample = str(sample_num)\n",
    "    if '-' in str(magic_measurements['er_specimen_name'][0]):\n",
    "        sample_name = magic_measurements.er_site_name.unique()[0]+'-'+sample\n",
    "    elif '.' in str(magic_measurements['er_specimen_name'][0]):\n",
    "        sample_name = magic_measurements.er_site_name.unique()[0]+'.'+sample\n",
    "    specimen_name = sample_name + 'a'\n",
    "#     tr = magic_measurements.ix[magic_measurements.er_specimen_name==specimen_name]['treatment_temp'].tolist()\n",
    "#     dec = magic_measurements.ix[magic_measurements.er_specimen_name==specimen_name]['measurement_dec'].tolist()\n",
    "#     inc = magic_measurements.ix[magic_measurements.er_specimen_name==specimen_name]['measurement_inc'].tolist()\n",
    "#     moment = magic_measurements.ix[magic_measurements.er_specimen_name==specimen_name]['measurement_magn_moment'].tolist()\n",
    "\n",
    "#     sample_info = er_samples.ix[er_samples['er_sample_name']==sample_name]\n",
    "#     sample_info.reset_index(inplace=True, drop=True)\n",
    "#     dec_geo, inc_geo = [], []\n",
    "#     dec_tc, inc_tc = [], []\n",
    "#     for n in range(len(dec)):\n",
    "#         d, i = pmag.dogeo(dec[n], inc[n], sample_info.sample_azimuth[0], sample_info.sample_dip[0])\n",
    "#         dec_geo.append(d)\n",
    "#         inc_geo.append(i)\n",
    "#     for n in range(len(dec_geo)):\n",
    "#         d, i = pmag.dotilt(dec_geo[n], inc_geo[n], sample_info.sample_bed_dip_direction[0], sample_info.sample_bed_dip[0])\n",
    "#         dec_tc.append(d)\n",
    "#         inc_tc.append(i)\n",
    "\n",
    "    \n",
    "    fig = plt.figure(figsize=(15,5))\n",
    "    ax1 = plt.subplot2grid((1,3), (0,0), colspan=1)\n",
    "    plt.axis(\"off\")\n",
    "    plot_net()\n",
    "\n",
    "#     if crd.get_state()['value']=='Core':\n",
    "    if crd=='Core':\n",
    "        datablock = map(list, zip(tr, dec, inc, moment))\n",
    "        ipmag.plot_di(dec,inc)\n",
    "    elif crd =='Geographic':\n",
    "        datablock = map(list, zip(tr, dec_geo, inc_geo, moment))\n",
    "        ipmag.plot_di(dec_geo, inc_geo)\n",
    "    elif crd=='Tilt corrected':\n",
    "        datablock = map(list, zip(tr, dec_tc, inc_tc, moment))\n",
    "        ipmag.plot_di(dec_tc, inc_tc)\n",
    "    else:\n",
    "        return 'No coordinate system selected'\n",
    "\n",
    "    ax2 = plt.subplot2grid((1,3), (0,1), colspan=1)\n",
    "    plt.axis(\"off\")\n",
    "#     print datablock\n",
    "    plotZ(datablock, 90, specimen_name, 0)\n",
    "\n",
    "    ax3 = plt.subplot2grid((1,3), (0,2), colspan=1)\n",
    "    plt.axis(\"on\")\n",
    "    plotMT(datablock,specimen_name, 1, 'K',1)\n",
    "#     return\n",
    "    plt.tight_layout()\n",
    "    plt.show()\n",
    "    \n",
    "# plot_equal_area(measurements)\n",
    "# display(coor)"
   ]
  },
  {
   "cell_type": "code",
   "execution_count": 67,
   "metadata": {
    "collapsed": false
   },
   "outputs": [
    {
     "data": {
      "image/png": "[encoded data removed]",
      "text/plain": [
       "<matplotlib.figure.Figure at 0x11a94ce90>"
      ]
     },
     "metadata": {},
     "output_type": "display_data"
    }
   ],
   "source": [
    "interactive(plot_equal_area, sample_num=measurements['samp_list'], crd=['Core', 'Geographic', 'Tilt corrected'])"
   ]
  },
  {
   "cell_type": "code",
   "execution_count": 60,
   "metadata": {
    "collapsed": false
   },
   "outputs": [
    {
     "data": {
      "text/plain": [
       "['1', '2', '3', '4', '5', '6', '7', '8']"
      ]
     },
     "execution_count": 60,
     "metadata": {},
     "output_type": "execute_result"
    }
   ],
   "source": [
    "measurements['samp_list']"
   ]
  },
  {
   "cell_type": "code",
   "execution_count": 43,
   "metadata": {
    "collapsed": false
   },
   "outputs": [],
   "source": [
    "crd = ipywidgets.Dropdown(options=['Core', 'Geographic', 'Tilt corrected'], value='Geographic')"
   ]
  },
  {
   "cell_type": "code",
   "execution_count": 44,
   "metadata": {
    "collapsed": true
   },
   "outputs": [],
   "source": [
    "crd.add_traits.im_func"
   ]
  },
  {
   "cell_type": "code",
   "execution_count": 46,
   "metadata": {
    "collapsed": false
   },
   "outputs": [
    {
     "data": {
      "text/plain": [
       "True"
      ]
     },
     "execution_count": 46,
     "metadata": {},
     "output_type": "execute_result"
    }
   ],
   "source": [
    "crd.get_state()['value']=='Geographic'"
   ]
  },
  {
   "cell_type": "code",
   "execution_count": 16,
   "metadata": {
    "collapsed": false
   },
   "outputs": [
    {
     "ename": "TypeError",
     "evalue": "'NoneType' object is not callable",
     "output_type": "error",
     "traceback": [
      "\u001b[0;31m---------------------------------------------------------------------------\u001b[0m",
      "\u001b[0;31mTypeError\u001b[0m                                 Traceback (most recent call last)",
      "\u001b[0;31mTypeError\u001b[0m: 'NoneType' object is not callable"
     ]
    }
   ],
   "source": [
    "#@interact(sample_num = samp_list, crd=['Core', 'Geographic', 'Tilt corrected'])\n",
    "interactive(plot_equal_area(measurements), sample_num = measurements['samp_list'], crd=['Core', 'Geographic', 'Tilt corrected'])"
   ]
  },
  {
   "cell_type": "code",
   "execution_count": 8,
   "metadata": {
    "collapsed": false
   },
   "outputs": [
    {
     "ename": "TypeError",
     "evalue": "'str' object is not callable",
     "output_type": "error",
     "traceback": [
      "\u001b[0;31m---------------------------------------------------------------------------\u001b[0m",
      "\u001b[0;31mTypeError\u001b[0m                                 Traceback (most recent call last)",
      "\u001b[0;31mTypeError\u001b[0m: 'str' object is not callable"
     ]
    },
    {
     "data": {
      "text/plain": [
       "<function ipywidgets.widgets.interaction.<lambda>>"
      ]
     },
     "execution_count": 8,
     "metadata": {},
     "output_type": "execute_result"
    }
   ],
   "source": [
    "def shit(data, selection='0'):\n",
    "    return data[int(selection)]\n",
    "interact(shit(measurements['samp_list']), selection=measurements['samp_list'])"
   ]
  },
  {
   "cell_type": "code",
   "execution_count": null,
   "metadata": {
    "collapsed": true
   },
   "outputs": [],
   "source": []
  }
 ],
 "metadata": {
  "anaconda-cloud": {},
  "extensions": {
   "jupyter_dashboards": {
    "activeView": "grid_default",
    "version": 1,
    "views": {
     "grid_default": {
      "cellMargin": 10,
      "defaultCellHeight": 20,
      "maxColumns": 12,
      "name": "grid",
      "type": "grid"
     },
     "report_default": {
      "name": "report",
      "type": "report"
     }
    }
   }
  },
  "hide_input": false,
  "kernelspec": {
   "display_name": "Python 2",
   "language": "python",
   "name": "python2"
  },
  "language_info": {
   "codemirror_mode": {
    "name": "ipython",
    "version": 2
   },
   "file_extension": ".py",
   "mimetype": "text/x-python",
   "name": "python",
   "nbconvert_exporter": "python",
   "pygments_lexer": "ipython2",
   "version": "2.7.12"
  },
  "nav_menu": {},
  "toc": {
   "navigate_menu": true,
   "number_sections": false,
   "sideBar": true,
   "threshold": 6,
   "toc_cell": false,
   "toc_section_display": "block",
   "toc_window_display": false
  },
  "widgets": {
   "state": {
    "030dc1c7a6ac4814a37bff86362c3104": {
     "views": [
      {
       "cell_index": 45
      }
     ]
    },
    "0a867cee6d174da3a3b018bf90cf5e66": {
     "views": [
      {
       "cell_index": 45
      }
     ]
    },
    "1ea348e5c4454ebeaeb447ea765e0a54": {
     "views": [
      {
       "cell_index": 45
      }
     ]
    },
    "230a0d8761bf4620acc954399378cd27": {
     "views": [
      {
       "cell_index": 47
      }
     ]
    },
    "3a57604598d94cecad153e365a307570": {
     "views": [
      {
       "cell_index": 45
      }
     ]
    },
    "44ec7aab5b2f4725873365c70cbf49de": {
     "views": [
      {
       "cell_index": 45
      }
     ]
    },
    "51278d2494f24921be95697458d361cd": {
     "views": [
      {
       "cell_index": 46
      }
     ]
    },
    "a3b1f044fa804dc69452f35755aaebad": {
     "views": [
      {
       "cell_index": 45
      }
     ]
    },
    "b8ac0e919943429baa3c08ac1d88b165": {
     "views": [
      {
       "cell_index": 46
      }
     ]
    },
    "b94001491bd14baeb02a364286f36738": {
     "views": [
      {
       "cell_index": 47
      }
     ]
    }
   },
   "version": "1.2.0"
  }
 },
 "nbformat": 4,
 "nbformat_minor": 0
}
