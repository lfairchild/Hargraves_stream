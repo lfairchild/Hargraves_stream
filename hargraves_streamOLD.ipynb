{
 "cells": [
  {
   "cell_type": "code",
   "execution_count": 1,
   "metadata": {
    "collapsed": true,
    "init_cell": true
   },
   "outputs": [],
   "source": [
    "import warnings\n",
    "warnings.filterwarnings('ignore')"
   ]
  },
  {
   "cell_type": "code",
   "execution_count": 2,
   "metadata": {
    "collapsed": false,
    "init_cell": true
   },
   "outputs": [
    {
     "data": {
      "application/javascript": [
       "\n",
       "        window.Urth = window.Urth || {};\n",
       "        Urth._initialized = Urth._initialized || $.Deferred();\n",
       "        Urth.whenReady = Urth.whenReady || function(cb) {\n",
       "            Urth._initialized.then(function() {\n",
       "                Urth.whenReady(cb);\n",
       "            });\n",
       "        };\n",
       "        Urth.whenReady(function() { console.log(\"Declarative widgets connected.\") });\n",
       "        "
      ],
      "text/plain": [
       "<IPython.core.display.Javascript object>"
      ]
     },
     "metadata": {},
     "output_type": "display_data"
    }
   ],
   "source": [
    "import declarativewidgets as decwidgets\n",
    "decwidgets.init()\n",
    "from time import time\n",
    "from time import sleep\n",
    "import os\n",
    "import sys\n",
    "if sys.version_info[0] < 3: \n",
    "    from StringIO import StringIO\n",
    "else:\n",
    "    from io import StringIO\n",
    "import pmagpy.ipmag as ipmag\n",
    "import pmagpy.pmag as pmag\n",
    "import pmagpy.pmagplotlib as pmagplotlib\n",
    "import cit_magic\n",
    "import pandas as pd\n",
    "import matplotlib.pyplot as plt\n",
    "import numpy as np\n",
    "from ipywidgets import interact, interactive, fixed\n",
    "import ipywidgets\n",
    "from IPython.display import display\n",
    "from pmagpy.demag_gui_utilities import *\n",
    "import subprocess\n",
    "from hargraves_stream_utilities import *\n",
    "\n",
    "%matplotlib inline"
   ]
  },
  {
   "cell_type": "code",
   "execution_count": 3,
   "metadata": {
    "collapsed": false
   },
   "outputs": [],
   "source": [
    "def set_hargraves_path(name=\"~/Dropbox/Hargraves_Data/\"):\n",
    "    global hargraves_path\n",
    "    hargraves_path = name\n",
    "    hargraves_path = os.path.expanduser(hargraves_path)\n",
    "    return hargraves_path"
   ]
  },
  {
   "cell_type": "code",
   "execution_count": 4,
   "metadata": {
    "collapsed": false
   },
   "outputs": [
    {
     "data": {
      "text/html": [
       "<template is=\"urth-core-bind\" channel='a'>\n",
       "    <urth-core-function id=\"f\" ref=\"set_hargraves_path\" value=\"{{name}}\" auto></urth-core-function>\n",
       "    <label>Path to Hargraves_Data folder:</label> <input type=\"text\" value=\"{{name::input}}\"></input><br/>\n",
       "</template> "
      ],
      "text/plain": [
       "<IPython.core.display.HTML object>"
      ]
     },
     "metadata": {},
     "output_type": "display_data"
    }
   ],
   "source": [
    "%%html\n",
    "<template is=\"urth-core-bind\" channel='a'>\n",
    "    <urth-core-function id=\"f\" ref=\"set_hargraves_path\" value=\"{{name}}\" auto></urth-core-function>\n",
    "    <label>Path to Hargraves_Data folder:</label> <input type=\"text\" value=\"{{name::input}}\"></input><br/>\n",
    "</template> "
   ]
  },
  {
   "cell_type": "code",
   "execution_count": 5,
   "metadata": {
    "collapsed": false
   },
   "outputs": [],
   "source": [
    "from declarativewidgets import channel\n",
    "\n",
    "def on_name_change(old, new):\n",
    "    hargraves_path = set_hargraves_path(name=new)\n",
    "    msg = \"{}\".format(new)\n",
    "    channel('a').set('message', msg)\n",
    "    \n",
    "channel('a').watch('name', on_name_change)"
   ]
  },
  {
   "cell_type": "code",
   "execution_count": 6,
   "metadata": {
    "collapsed": false
   },
   "outputs": [
    {
     "data": {
      "text/html": [
       "<template is='urth-core-bind' channel='a'>\n",
       "    <span>Path changed to {{message}}</span>\n",
       "</template>"
      ],
      "text/plain": [
       "<IPython.core.display.HTML object>"
      ]
     },
     "metadata": {},
     "output_type": "display_data"
    }
   ],
   "source": [
    "%%html\n",
    "<template is='urth-core-bind' channel='a'>\n",
    "    <span>Path changed to {{message}}</span>\n",
    "</template>"
   ]
  },
  {
   "cell_type": "code",
   "execution_count": 55,
   "metadata": {
    "collapsed": false
   },
   "outputs": [],
   "source": [
    "test_log = open('testlog.txt','w')\n",
    "test_errlog = open('testerrlog.txt','w')\n",
    "test_log.close()\n",
    "test_errlog.close()"
   ]
  },
  {
   "cell_type": "code",
   "execution_count": 56,
   "metadata": {
    "collapsed": false
   },
   "outputs": [
    {
     "data": {
      "text/plain": [
       "'/Users/lukefairchild765/Desktop/hargraves_stream/testlog.txt'"
      ]
     },
     "execution_count": 56,
     "metadata": {},
     "output_type": "execute_result"
    }
   ],
   "source": [
    "test_log_path = os.path.abspath('testlog.txt')\n",
    "test_log_path"
   ]
  },
  {
   "cell_type": "code",
   "execution_count": 18,
   "metadata": {
    "collapsed": false
   },
   "outputs": [],
   "source": [
    "# test_log = open('testlog.txt','a+')\n",
    "# test_errlog = open('testerrlog.txt','a+')\n",
    "sub = subprocess.Popen(['demag_stream.sh', hargraves_path, test_log_path], universal_newlines=True, shell=True)#, stdout=test_log.fileno(), bufsize = 1)"
   ]
  },
  {
   "cell_type": "code",
   "execution_count": 70,
   "metadata": {
    "collapsed": true
   },
   "outputs": [],
   "source": [
    "def on_file_change():\n",
    "    test_log = open(test_log_path, 'r')\n",
    "    path_name_list = test_log.readlines()\n",
    "    test_log.close()\n",
    "    new = path_name_list[-2]+path_name_list[-1]\n",
    "    try:\n",
    "        old = path_name_list[-4]+path_name_list[-3]\n",
    "    except IndexError:\n",
    "        print True\n",
    "        channel('b').set('update', True)\n",
    "        return\n",
    "    print old\n",
    "    print new\n",
    "    if new == old:\n",
    "        print False\n",
    "        channel('b').set('update', False)\n",
    "    else:\n",
    "        print True\n",
    "        channel('b').set('update', True)\n",
    "channel('b').watch('update', on_file_change)"
   ]
  },
  {
   "cell_type": "code",
   "execution_count": 71,
   "metadata": {
    "collapsed": false,
    "scrolled": true
   },
   "outputs": [
    {
     "name": "stdout",
     "output_type": "stream",
     "text": [
      "./Keweenawan/Gooseberry/GB10-\n",
      "./GB10-10a.rmg\n",
      "\n",
      "./Keweenawan/Gooseberry/GB10-\n",
      "./GB10-10a.rmg\n",
      "\n",
      "False\n"
     ]
    }
   ],
   "source": [
    "on_file_change()"
   ]
  },
  {
   "cell_type": "code",
   "execution_count": 74,
   "metadata": {
    "collapsed": false
   },
   "outputs": [
    {
     "data": {
      "text/html": [
       "<template is='urth-core-bind' channel='b'>\n",
       "    <span>UPDATE: {{update}}</span>\n",
       "</template>"
      ],
      "text/plain": [
       "<IPython.core.display.HTML object>"
      ]
     },
     "metadata": {},
     "output_type": "display_data"
    }
   ],
   "source": [
    "%%html\n",
    "<template is='urth-core-bind' channel='b'>\n",
    "    <span>UPDATE: {{update}}</span>\n",
    "</template>"
   ]
  },
  {
   "cell_type": "code",
   "execution_count": 64,
   "metadata": {
    "collapsed": false
   },
   "outputs": [
    {
     "data": {
      "text/html": [
       "<template is=\"urth-core-bind\" channel='b'>\n",
       "    <urth-core-function id=\"f\" ref=\"find_most_recent\" auto></urth-core-function>\n",
       "    <label>UPDATES:</label>\n",
       "</template> "
      ],
      "text/plain": [
       "<IPython.core.display.HTML object>"
      ]
     },
     "metadata": {},
     "output_type": "display_data"
    }
   ],
   "source": [
    "%%html\n",
    "<template is=\"urth-core-bind\" channel='b'>\n",
    "    <urth-core-function id=\"f\" ref=\"find_most_recent\" auto></urth-core-function>\n",
    "    <label>UPDATES:</label>\n",
    "</template> "
   ]
  },
  {
   "cell_type": "code",
   "execution_count": 27,
   "metadata": {
    "collapsed": false
   },
   "outputs": [],
   "source": [
    "def find_most_recent(full_path):\n",
    "    path_name = !find '$full_path' -type d -print0 | xargs -0 stat -f \"%m %N\" | sort -rn | head -1 | cut -f2- -d\" \"\n",
    "    path_name = os.path.abspath(path_name[0])\n",
    "    file_name = !find '$path_name' -name '*.rmg' -type f -print0 | xargs -0 stat -f \"%m %N\" | sort -rn | head -1 | cut -f2- -d\" \"\n",
    "    file_name = os.path.abspath(file_name[0])\n",
    "#     log = open('testlog.txt', 'r')\n",
    "#     path_name_list = log.readlines()\n",
    "#     log.close()\n",
    "#     path_name = path_name_list[-2]+path_name_list[-1]\n",
    "#     dir_path = str(path_name).split('\\n')[0][2:]\n",
    "#     file_path = str(path_name).split('\\n')[1]\n",
    "    full_inp_path = os.path.abspath(path_name + '/' + os.path.basename(path_name) + '.inp')\n",
    "    full_sam_path = os.path.abspath(path_name + '/' + os.path.basename(path_name) + '.sam')\n",
    "#     print full_inp_path, '\\nexists ---> {}'.format(os.path.isfile(full_inp_path))\n",
    "#     print full_sam_path, '\\nexists ---> {}'.format(os.path.isfile(full_sam_path))\n",
    "    return full_inp_path, full_sam_path, file_name\n",
    "full_inp_path, full_sam_path, file_path = find_most_recent(hargraves_path)"
   ]
  },
  {
   "cell_type": "code",
   "execution_count": 33,
   "metadata": {
    "collapsed": false,
    "scrolled": true
   },
   "outputs": [
    {
     "name": "stderr",
     "output_type": "stream",
     "text": [
      "  File \"<stdin>\", line 2\n",
      "    path_name = !find '$full_path' -type d -print0 | xargs -0 stat -f \"%m %N\" | sort -rn | head -1 | cut -f2- -d\" \"\n",
      "                ^\n",
      "SyntaxError: invalid syntax\n"
     ]
    }
   ],
   "source": [
    "%%python\n",
    "def find_most_recent(full_path):\n",
    "    path_name = !find '$full_path' -type d -print0 | xargs -0 stat -f \"%m %N\" | sort -rn | head -1 | cut -f2- -d\" \"\n",
    "    path_name = os.path.abspath(path_name[0])\n",
    "    file_name = !find '$path_name' -name '*.rmg' -type f -print0 | xargs -0 stat -f \"%m %N\" | sort -rn | head -1 | cut -f2- -d\" \"\n",
    "    file_name = os.path.abspath(file_name[0])\n",
    "#     log = open('testlog.txt', 'r')\n",
    "#     path_name_list = log.readlines()\n",
    "#     log.close()\n",
    "#     path_name = path_name_list[-2]+path_name_list[-1]\n",
    "#     dir_path = str(path_name).split('\\n')[0][2:]\n",
    "#     file_path = str(path_name).split('\\n')[1]\n",
    "    full_inp_path = os.path.abspath(path_name + '/' + os.path.basename(path_name) + '.inp')\n",
    "    full_sam_path = os.path.abspath(path_name + '/' + os.path.basename(path_name) + '.sam')\n",
    "#     print full_inp_path, '\\nexists ---> {}'.format(os.path.isfile(full_inp_path))\n",
    "#     print full_sam_path, '\\nexists ---> {}'.format(os.path.isfile(full_sam_path))\n",
    "    return full_inp_path, full_sam_path, file_name\n",
    "full_inp_path, full_sam_path, file_path = find_most_recent(hargraves_path)"
   ]
  },
  {
   "cell_type": "code",
   "execution_count": 18,
   "metadata": {
    "collapsed": false
   },
   "outputs": [
    {
     "data": {
      "text/plain": [
       "'/Users/lukefairchild765/Dropbox/Hargraves_Data/Keweenawan/Gooseberry/GB10-/GB10-.sam'"
      ]
     },
     "execution_count": 18,
     "metadata": {},
     "output_type": "execute_result"
    }
   ],
   "source": [
    "full_sam_path"
   ]
  },
  {
   "cell_type": "code",
   "execution_count": 57,
   "metadata": {
    "collapsed": false
   },
   "outputs": [
    {
     "name": "stdout",
     "output_type": "stream",
     "text": [
      "Starting job # 5 in a separate thread.\n"
     ]
    }
   ],
   "source": [
    "%%sh --bg -s \"$hargraves_path\" \"$test_log_path\"\n",
    "demag_stream.command $1 $2"
   ]
  },
  {
   "cell_type": "code",
   "execution_count": 54,
   "metadata": {
    "collapsed": false
   },
   "outputs": [
    {
     "name": "stdout",
     "output_type": "stream",
     "text": [
      "All background processes were killed.\n"
     ]
    }
   ],
   "source": [
    "%killbgscripts"
   ]
  },
  {
   "cell_type": "code",
   "execution_count": 55,
   "metadata": {
    "collapsed": false
   },
   "outputs": [],
   "source": [
    "most_recent_sample = os.path.splitext(os.path.basename(file_path))[0][:-1]\n",
    "try:\n",
    "    most_recent_samp_num = most_recent_sample.split('.')[1]\n",
    "except:\n",
    "    most_recent_samp_num = most_recent_sample.split('-')[1]"
   ]
  },
  {
   "cell_type": "code",
   "execution_count": 58,
   "metadata": {
    "collapsed": false
   },
   "outputs": [],
   "source": [
    "%%capture\n",
    "%cd\n",
    "_, er_specimens, er_sites, er_samples, magic_measurements = read_inp(full_inp_path,full_sam_path)"
   ]
  },
  {
   "cell_type": "code",
   "execution_count": 59,
   "metadata": {
    "collapsed": false
   },
   "outputs": [],
   "source": [
    "samp_list = []\n",
    "all_samp = er_samples.er_sample_name.unique().tolist()\n",
    "try:\n",
    "    for s in all_samp:\n",
    "        samp_list.append(s.split('.')[1])\n",
    "except:\n",
    "    for s in all_samp:\n",
    "        samp_list.append(s.split('-')[1])"
   ]
  },
  {
   "cell_type": "code",
   "execution_count": 60,
   "metadata": {
    "collapsed": false
   },
   "outputs": [],
   "source": [
    "sample_name = most_recent_sample\n",
    "specimen_name = sample_name + 'a'\n",
    "tr = magic_measurements.ix[magic_measurements.er_specimen_name==specimen_name]['treatment_temp'].tolist()\n",
    "dec = magic_measurements.ix[magic_measurements.er_specimen_name==specimen_name]['measurement_dec'].tolist()\n",
    "inc = magic_measurements.ix[magic_measurements.er_specimen_name==specimen_name]['measurement_inc'].tolist()\n",
    "moment = magic_measurements.ix[magic_measurements.er_specimen_name==specimen_name]['measurement_magn_moment'].tolist()\n",
    "\n",
    "datablock = map(list, zip(tr, dec, inc, moment))\n",
    "\n",
    "# [tr,dec,inc,int,ZI,rec['measurement_flag'],rec['magic_instrument_codes']]"
   ]
  },
  {
   "cell_type": "code",
   "execution_count": 61,
   "metadata": {
    "collapsed": false
   },
   "outputs": [],
   "source": [
    "sample_info = er_samples.ix[er_samples['er_sample_name']==sample_name]\n",
    "sample_info.reset_index(inplace=True, drop=True)\n",
    "dec_geo, inc_geo = [], []\n",
    "dec_tc, inc_tc = [], []\n",
    "for n in range(len(dec)):\n",
    "    d, i = pmag.dogeo(dec[n], inc[n], sample_info.sample_azimuth[0], sample_info.sample_dip[0])\n",
    "    dec_geo.append(d)\n",
    "    inc_geo.append(i)\n",
    "for n in range(len(dec_geo)):\n",
    "    d, i = pmag.dotilt(dec_geo[n], inc_geo[n], sample_info.sample_bed_dip_direction[0], sample_info.sample_bed_dip[0])\n",
    "    dec_tc.append(d)\n",
    "    inc_tc.append(i)"
   ]
  },
  {
   "cell_type": "code",
   "execution_count": 62,
   "metadata": {
    "collapsed": false
   },
   "outputs": [
    {
     "data": {
      "image/png": "[encoded data removed]",
      "text/plain": [
       "<matplotlib.figure.Figure at 0x11572bb50>"
      ]
     },
     "metadata": {},
     "output_type": "display_data"
    }
   ],
   "source": [
    "@interact(sample_num = samp_list, crd=['Core', 'Geographic', 'Tilt corrected'])\n",
    "def plot_equal_area(sample_num = most_recent_samp_num, crd='Geographic'):\n",
    "    sample = str(sample_num)\n",
    "    if '-' in str(magic_measurements['er_specimen_name'][0]):\n",
    "        sample_name = magic_measurements.er_site_name.unique()[0]+'-'+sample\n",
    "    elif '.' in str(magic_measurements['er_specimen_name'][0]):\n",
    "        sample_name = magic_measurements.er_site_name.unique()[0]+'.'+sample\n",
    "    specimen_name = sample_name + 'a'\n",
    "    tr = magic_measurements.ix[magic_measurements.er_specimen_name==specimen_name]['treatment_temp'].tolist()\n",
    "    dec = magic_measurements.ix[magic_measurements.er_specimen_name==specimen_name]['measurement_dec'].tolist()\n",
    "    inc = magic_measurements.ix[magic_measurements.er_specimen_name==specimen_name]['measurement_inc'].tolist()\n",
    "    moment = magic_measurements.ix[magic_measurements.er_specimen_name==specimen_name]['measurement_magn_moment'].tolist()\n",
    "\n",
    "    sample_info = er_samples.ix[er_samples['er_sample_name']==sample_name]\n",
    "    sample_info.reset_index(inplace=True, drop=True)\n",
    "    dec_geo, inc_geo = [], []\n",
    "    dec_tc, inc_tc = [], []\n",
    "    for n in range(len(dec)):\n",
    "        d, i = pmag.dogeo(dec[n], inc[n], sample_info.sample_azimuth[0], sample_info.sample_dip[0])\n",
    "        dec_geo.append(d)\n",
    "        inc_geo.append(i)\n",
    "    for n in range(len(dec_geo)):\n",
    "        d, i = pmag.dotilt(dec_geo[n], inc_geo[n], sample_info.sample_bed_dip_direction[0], sample_info.sample_bed_dip[0])\n",
    "        dec_tc.append(d)\n",
    "        inc_tc.append(i)\n",
    "\n",
    "    \n",
    "    fig = plt.figure(figsize=(15,5))\n",
    "    ax1 = plt.subplot2grid((1,3), (0,0), colspan=1)\n",
    "    plt.axis(\"off\")\n",
    "    plot_net()\n",
    "\n",
    "    if crd=='Core':\n",
    "        datablock = map(list, zip(tr, dec, inc, moment))\n",
    "        ipmag.plot_di(dec,inc)\n",
    "    elif crd=='Geographic':\n",
    "        datablock = map(list, zip(tr, dec_geo, inc_geo, moment))\n",
    "        ipmag.plot_di(dec_geo, inc_geo)\n",
    "    elif crd=='Tilt corrected':\n",
    "        datablock = map(list, zip(tr, dec_tc, inc_tc, moment))\n",
    "        ipmag.plot_di(dec_tc, inc_tc)\n",
    "\n",
    "    ax2 = plt.subplot2grid((1,3), (0,1), colspan=1)\n",
    "    plt.axis(\"off\")\n",
    "    plotZ(datablock, 90, specimen_name, 0)\n",
    "\n",
    "    ax3 = plt.subplot2grid((1,3), (0,2), colspan=1)\n",
    "    plt.axis(\"on\")\n",
    "    plotMT(datablock,specimen_name, 1, 'K',1)\n",
    "    \n",
    "    plt.tight_layout()\n",
    "    plt.show()"
   ]
  },
  {
   "cell_type": "code",
   "execution_count": null,
   "metadata": {
    "collapsed": true
   },
   "outputs": [],
   "source": []
  }
 ],
 "metadata": {
  "hide_input": false,
  "kernelspec": {
   "display_name": "Python 2",
   "language": "python",
   "name": "python2"
  },
  "language_info": {
   "codemirror_mode": {
    "name": "ipython",
    "version": 2
   },
   "file_extension": ".py",
   "mimetype": "text/x-python",
   "name": "python",
   "nbconvert_exporter": "python",
   "pygments_lexer": "ipython2",
   "version": "2.7.12"
  },
  "toc": {
   "toc_cell": false,
   "toc_number_sections": false,
   "toc_threshold": 4,
   "toc_window_display": false
  }
 },
 "nbformat": 4,
 "nbformat_minor": 0
}
